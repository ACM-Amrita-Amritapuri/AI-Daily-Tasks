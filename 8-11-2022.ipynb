{
 "cells": [
  {
   "cell_type": "markdown",
   "metadata": {},
   "source": [
    "# Question 1"
   ]
  },
  {
   "cell_type": "code",
   "execution_count": 2,
   "metadata": {},
   "outputs": [
    {
     "name": "stdout",
     "output_type": "stream",
     "text": [
      "   SNo ObservationDate Province/State  Country/Region      Last Update  \\\n",
      "0    1      01/22/2020          Anhui  Mainland China  1/22/2020 17:00   \n",
      "1    2      01/22/2020        Beijing  Mainland China  1/22/2020 17:00   \n",
      "2    3      01/22/2020      Chongqing  Mainland China  1/22/2020 17:00   \n",
      "3    4      01/22/2020         Fujian  Mainland China  1/22/2020 17:00   \n",
      "4    5      01/22/2020          Gansu  Mainland China  1/22/2020 17:00   \n",
      "5    6      01/22/2020      Guangdong  Mainland China  1/22/2020 17:00   \n",
      "6    7      01/22/2020        Guangxi  Mainland China  1/22/2020 17:00   \n",
      "7    8      01/22/2020        Guizhou  Mainland China  1/22/2020 17:00   \n",
      "8    9      01/22/2020         Hainan  Mainland China  1/22/2020 17:00   \n",
      "9   10      01/22/2020          Hebei  Mainland China  1/22/2020 17:00   \n",
      "\n",
      "   Confirmed  Deaths  Recovered  \n",
      "0        1.0     0.0        0.0  \n",
      "1       14.0     0.0        0.0  \n",
      "2        6.0     0.0        0.0  \n",
      "3        1.0     0.0        0.0  \n",
      "4        0.0     0.0        0.0  \n",
      "5       26.0     0.0        0.0  \n",
      "6        2.0     0.0        0.0  \n",
      "7        1.0     0.0        0.0  \n",
      "8        4.0     0.0        0.0  \n",
      "9        1.0     0.0        0.0  \n"
     ]
    }
   ],
   "source": [
    "import pandas as pd\n",
    "import numpy as np\n",
    "\n",
    "File = pd.read_csv('https://raw.githubusercontent.com/ACM-Amrita-Amritapuri/AI-Daily-Tasks/main/Data%20Pre-Processing%20(8-11-22)/Data_Set.csv')\n",
    "print(File.head(10))\n"
   ]
  },
  {
   "cell_type": "code",
   "execution_count": 3,
   "metadata": {},
   "outputs": [
    {
     "data": {
      "text/html": [
       "<div>\n",
       "<style scoped>\n",
       "    .dataframe tbody tr th:only-of-type {\n",
       "        vertical-align: middle;\n",
       "    }\n",
       "\n",
       "    .dataframe tbody tr th {\n",
       "        vertical-align: top;\n",
       "    }\n",
       "\n",
       "    .dataframe thead th {\n",
       "        text-align: right;\n",
       "    }\n",
       "</style>\n",
       "<table border=\"1\" class=\"dataframe\">\n",
       "  <thead>\n",
       "    <tr style=\"text-align: right;\">\n",
       "      <th></th>\n",
       "      <th>SNo</th>\n",
       "      <th>ObservationDate</th>\n",
       "      <th>Province/State</th>\n",
       "      <th>Country/Region</th>\n",
       "      <th>Last Update</th>\n",
       "      <th>Confirmed</th>\n",
       "      <th>Deaths</th>\n",
       "      <th>Recovered</th>\n",
       "    </tr>\n",
       "  </thead>\n",
       "  <tbody>\n",
       "    <tr>\n",
       "      <th>0</th>\n",
       "      <td>False</td>\n",
       "      <td>False</td>\n",
       "      <td>False</td>\n",
       "      <td>False</td>\n",
       "      <td>False</td>\n",
       "      <td>False</td>\n",
       "      <td>False</td>\n",
       "      <td>False</td>\n",
       "    </tr>\n",
       "    <tr>\n",
       "      <th>1</th>\n",
       "      <td>False</td>\n",
       "      <td>False</td>\n",
       "      <td>False</td>\n",
       "      <td>False</td>\n",
       "      <td>False</td>\n",
       "      <td>False</td>\n",
       "      <td>False</td>\n",
       "      <td>False</td>\n",
       "    </tr>\n",
       "    <tr>\n",
       "      <th>2</th>\n",
       "      <td>False</td>\n",
       "      <td>False</td>\n",
       "      <td>False</td>\n",
       "      <td>False</td>\n",
       "      <td>False</td>\n",
       "      <td>False</td>\n",
       "      <td>False</td>\n",
       "      <td>False</td>\n",
       "    </tr>\n",
       "    <tr>\n",
       "      <th>3</th>\n",
       "      <td>False</td>\n",
       "      <td>False</td>\n",
       "      <td>False</td>\n",
       "      <td>False</td>\n",
       "      <td>False</td>\n",
       "      <td>False</td>\n",
       "      <td>False</td>\n",
       "      <td>False</td>\n",
       "    </tr>\n",
       "    <tr>\n",
       "      <th>4</th>\n",
       "      <td>False</td>\n",
       "      <td>False</td>\n",
       "      <td>False</td>\n",
       "      <td>False</td>\n",
       "      <td>False</td>\n",
       "      <td>False</td>\n",
       "      <td>False</td>\n",
       "      <td>False</td>\n",
       "    </tr>\n",
       "    <tr>\n",
       "      <th>...</th>\n",
       "      <td>...</td>\n",
       "      <td>...</td>\n",
       "      <td>...</td>\n",
       "      <td>...</td>\n",
       "      <td>...</td>\n",
       "      <td>...</td>\n",
       "      <td>...</td>\n",
       "      <td>...</td>\n",
       "    </tr>\n",
       "    <tr>\n",
       "      <th>10666</th>\n",
       "      <td>False</td>\n",
       "      <td>False</td>\n",
       "      <td>False</td>\n",
       "      <td>False</td>\n",
       "      <td>False</td>\n",
       "      <td>False</td>\n",
       "      <td>False</td>\n",
       "      <td>False</td>\n",
       "    </tr>\n",
       "    <tr>\n",
       "      <th>10667</th>\n",
       "      <td>False</td>\n",
       "      <td>False</td>\n",
       "      <td>False</td>\n",
       "      <td>False</td>\n",
       "      <td>False</td>\n",
       "      <td>False</td>\n",
       "      <td>False</td>\n",
       "      <td>False</td>\n",
       "    </tr>\n",
       "    <tr>\n",
       "      <th>10668</th>\n",
       "      <td>False</td>\n",
       "      <td>False</td>\n",
       "      <td>False</td>\n",
       "      <td>False</td>\n",
       "      <td>False</td>\n",
       "      <td>False</td>\n",
       "      <td>False</td>\n",
       "      <td>False</td>\n",
       "    </tr>\n",
       "    <tr>\n",
       "      <th>10669</th>\n",
       "      <td>False</td>\n",
       "      <td>False</td>\n",
       "      <td>False</td>\n",
       "      <td>False</td>\n",
       "      <td>False</td>\n",
       "      <td>False</td>\n",
       "      <td>False</td>\n",
       "      <td>False</td>\n",
       "    </tr>\n",
       "    <tr>\n",
       "      <th>10670</th>\n",
       "      <td>False</td>\n",
       "      <td>False</td>\n",
       "      <td>False</td>\n",
       "      <td>False</td>\n",
       "      <td>False</td>\n",
       "      <td>False</td>\n",
       "      <td>False</td>\n",
       "      <td>False</td>\n",
       "    </tr>\n",
       "  </tbody>\n",
       "</table>\n",
       "<p>10671 rows × 8 columns</p>\n",
       "</div>"
      ],
      "text/plain": [
       "         SNo  ObservationDate  Province/State  Country/Region  Last Update  \\\n",
       "0      False            False           False           False        False   \n",
       "1      False            False           False           False        False   \n",
       "2      False            False           False           False        False   \n",
       "3      False            False           False           False        False   \n",
       "4      False            False           False           False        False   \n",
       "...      ...              ...             ...             ...          ...   \n",
       "10666  False            False           False           False        False   \n",
       "10667  False            False           False           False        False   \n",
       "10668  False            False           False           False        False   \n",
       "10669  False            False           False           False        False   \n",
       "10670  False            False           False           False        False   \n",
       "\n",
       "       Confirmed  Deaths  Recovered  \n",
       "0          False   False      False  \n",
       "1          False   False      False  \n",
       "2          False   False      False  \n",
       "3          False   False      False  \n",
       "4          False   False      False  \n",
       "...          ...     ...        ...  \n",
       "10666      False   False      False  \n",
       "10667      False   False      False  \n",
       "10668      False   False      False  \n",
       "10669      False   False      False  \n",
       "10670      False   False      False  \n",
       "\n",
       "[10671 rows x 8 columns]"
      ]
     },
     "execution_count": 3,
     "metadata": {},
     "output_type": "execute_result"
    }
   ],
   "source": [
    "File.isnull()\n"
   ]
  },
  {
   "cell_type": "code",
   "execution_count": 7,
   "metadata": {},
   "outputs": [
    {
     "data": {
      "text/html": [
       "<div>\n",
       "<style scoped>\n",
       "    .dataframe tbody tr th:only-of-type {\n",
       "        vertical-align: middle;\n",
       "    }\n",
       "\n",
       "    .dataframe tbody tr th {\n",
       "        vertical-align: top;\n",
       "    }\n",
       "\n",
       "    .dataframe thead th {\n",
       "        text-align: right;\n",
       "    }\n",
       "</style>\n",
       "<table border=\"1\" class=\"dataframe\">\n",
       "  <thead>\n",
       "    <tr style=\"text-align: right;\">\n",
       "      <th></th>\n",
       "      <th>SNo</th>\n",
       "      <th>ObservationDate</th>\n",
       "      <th>Province/State</th>\n",
       "      <th>Country/Region</th>\n",
       "      <th>Last Update</th>\n",
       "      <th>Confirmed</th>\n",
       "      <th>Deaths</th>\n",
       "      <th>Recovered</th>\n",
       "    </tr>\n",
       "  </thead>\n",
       "  <tbody>\n",
       "    <tr>\n",
       "      <th>0</th>\n",
       "      <td>1</td>\n",
       "      <td>01/22/2020</td>\n",
       "      <td>Anhui</td>\n",
       "      <td>Mainland China</td>\n",
       "      <td>1/22/2020 17:00</td>\n",
       "      <td>1.0</td>\n",
       "      <td>0.0</td>\n",
       "      <td>0.0</td>\n",
       "    </tr>\n",
       "    <tr>\n",
       "      <th>1</th>\n",
       "      <td>2</td>\n",
       "      <td>01/22/2020</td>\n",
       "      <td>Beijing</td>\n",
       "      <td>Mainland China</td>\n",
       "      <td>1/22/2020 17:00</td>\n",
       "      <td>14.0</td>\n",
       "      <td>0.0</td>\n",
       "      <td>0.0</td>\n",
       "    </tr>\n",
       "    <tr>\n",
       "      <th>2</th>\n",
       "      <td>3</td>\n",
       "      <td>01/22/2020</td>\n",
       "      <td>Chongqing</td>\n",
       "      <td>Mainland China</td>\n",
       "      <td>1/22/2020 17:00</td>\n",
       "      <td>6.0</td>\n",
       "      <td>0.0</td>\n",
       "      <td>0.0</td>\n",
       "    </tr>\n",
       "    <tr>\n",
       "      <th>3</th>\n",
       "      <td>4</td>\n",
       "      <td>01/22/2020</td>\n",
       "      <td>Fujian</td>\n",
       "      <td>Mainland China</td>\n",
       "      <td>1/22/2020 17:00</td>\n",
       "      <td>1.0</td>\n",
       "      <td>0.0</td>\n",
       "      <td>0.0</td>\n",
       "    </tr>\n",
       "    <tr>\n",
       "      <th>4</th>\n",
       "      <td>5</td>\n",
       "      <td>01/22/2020</td>\n",
       "      <td>Gansu</td>\n",
       "      <td>Mainland China</td>\n",
       "      <td>1/22/2020 17:00</td>\n",
       "      <td>0.0</td>\n",
       "      <td>0.0</td>\n",
       "      <td>0.0</td>\n",
       "    </tr>\n",
       "    <tr>\n",
       "      <th>...</th>\n",
       "      <td>...</td>\n",
       "      <td>...</td>\n",
       "      <td>...</td>\n",
       "      <td>...</td>\n",
       "      <td>...</td>\n",
       "      <td>...</td>\n",
       "      <td>...</td>\n",
       "      <td>...</td>\n",
       "    </tr>\n",
       "    <tr>\n",
       "      <th>10666</th>\n",
       "      <td>10667</td>\n",
       "      <td>03/31/2020</td>\n",
       "      <td>Wyoming</td>\n",
       "      <td>US</td>\n",
       "      <td>2020-03-31 23:49:27</td>\n",
       "      <td>109.0</td>\n",
       "      <td>0.0</td>\n",
       "      <td>0.0</td>\n",
       "    </tr>\n",
       "    <tr>\n",
       "      <th>10667</th>\n",
       "      <td>10668</td>\n",
       "      <td>03/31/2020</td>\n",
       "      <td>Xinjiang</td>\n",
       "      <td>Mainland China</td>\n",
       "      <td>2020-03-31 23:49:27</td>\n",
       "      <td>76.0</td>\n",
       "      <td>3.0</td>\n",
       "      <td>73.0</td>\n",
       "    </tr>\n",
       "    <tr>\n",
       "      <th>10668</th>\n",
       "      <td>10669</td>\n",
       "      <td>03/31/2020</td>\n",
       "      <td>Yukon</td>\n",
       "      <td>Canada</td>\n",
       "      <td>2020-03-31 23:49:27</td>\n",
       "      <td>5.0</td>\n",
       "      <td>0.0</td>\n",
       "      <td>0.0</td>\n",
       "    </tr>\n",
       "    <tr>\n",
       "      <th>10669</th>\n",
       "      <td>10670</td>\n",
       "      <td>03/31/2020</td>\n",
       "      <td>Yunnan</td>\n",
       "      <td>Mainland China</td>\n",
       "      <td>2020-03-31 23:49:27</td>\n",
       "      <td>182.0</td>\n",
       "      <td>2.0</td>\n",
       "      <td>172.0</td>\n",
       "    </tr>\n",
       "    <tr>\n",
       "      <th>10670</th>\n",
       "      <td>10671</td>\n",
       "      <td>03/31/2020</td>\n",
       "      <td>Zhejiang</td>\n",
       "      <td>Mainland China</td>\n",
       "      <td>2020-03-31 23:49:27</td>\n",
       "      <td>1257.0</td>\n",
       "      <td>1.0</td>\n",
       "      <td>1226.0</td>\n",
       "    </tr>\n",
       "  </tbody>\n",
       "</table>\n",
       "<p>5715 rows × 8 columns</p>\n",
       "</div>"
      ],
      "text/plain": [
       "         SNo ObservationDate Province/State  Country/Region  \\\n",
       "0          1      01/22/2020          Anhui  Mainland China   \n",
       "1          2      01/22/2020        Beijing  Mainland China   \n",
       "2          3      01/22/2020      Chongqing  Mainland China   \n",
       "3          4      01/22/2020         Fujian  Mainland China   \n",
       "4          5      01/22/2020          Gansu  Mainland China   \n",
       "...      ...             ...            ...             ...   \n",
       "10666  10667      03/31/2020        Wyoming              US   \n",
       "10667  10668      03/31/2020       Xinjiang  Mainland China   \n",
       "10668  10669      03/31/2020          Yukon          Canada   \n",
       "10669  10670      03/31/2020         Yunnan  Mainland China   \n",
       "10670  10671      03/31/2020       Zhejiang  Mainland China   \n",
       "\n",
       "               Last Update  Confirmed  Deaths  Recovered  \n",
       "0          1/22/2020 17:00        1.0     0.0        0.0  \n",
       "1          1/22/2020 17:00       14.0     0.0        0.0  \n",
       "2          1/22/2020 17:00        6.0     0.0        0.0  \n",
       "3          1/22/2020 17:00        1.0     0.0        0.0  \n",
       "4          1/22/2020 17:00        0.0     0.0        0.0  \n",
       "...                    ...        ...     ...        ...  \n",
       "10666  2020-03-31 23:49:27      109.0     0.0        0.0  \n",
       "10667  2020-03-31 23:49:27       76.0     3.0       73.0  \n",
       "10668  2020-03-31 23:49:27        5.0     0.0        0.0  \n",
       "10669  2020-03-31 23:49:27      182.0     2.0      172.0  \n",
       "10670  2020-03-31 23:49:27     1257.0     1.0     1226.0  \n",
       "\n",
       "[5715 rows x 8 columns]"
      ]
     },
     "execution_count": 7,
     "metadata": {},
     "output_type": "execute_result"
    }
   ],
   "source": [
    "File.dropna(axis=0, how=\"any\", thresh=None, subset=None, inplace=False )"
   ]
  },
  {
   "cell_type": "code",
   "execution_count": 8,
   "metadata": {},
   "outputs": [
    {
     "data": {
      "text/html": [
       "<div>\n",
       "<style scoped>\n",
       "    .dataframe tbody tr th:only-of-type {\n",
       "        vertical-align: middle;\n",
       "    }\n",
       "\n",
       "    .dataframe tbody tr th {\n",
       "        vertical-align: top;\n",
       "    }\n",
       "\n",
       "    .dataframe thead th {\n",
       "        text-align: right;\n",
       "    }\n",
       "</style>\n",
       "<table border=\"1\" class=\"dataframe\">\n",
       "  <thead>\n",
       "    <tr style=\"text-align: right;\">\n",
       "      <th></th>\n",
       "      <th>SNo</th>\n",
       "      <th>Confirmed</th>\n",
       "      <th>Deaths</th>\n",
       "      <th>Recovered</th>\n",
       "    </tr>\n",
       "  </thead>\n",
       "  <tbody>\n",
       "    <tr>\n",
       "      <th>count</th>\n",
       "      <td>10671.000000</td>\n",
       "      <td>10671.000000</td>\n",
       "      <td>10671.000000</td>\n",
       "      <td>10671.000000</td>\n",
       "    </tr>\n",
       "    <tr>\n",
       "      <th>mean</th>\n",
       "      <td>5336.000000</td>\n",
       "      <td>993.821666</td>\n",
       "      <td>40.667229</td>\n",
       "      <td>289.508481</td>\n",
       "    </tr>\n",
       "    <tr>\n",
       "      <th>std</th>\n",
       "      <td>3080.596695</td>\n",
       "      <td>6268.835379</td>\n",
       "      <td>398.618024</td>\n",
       "      <td>3010.809184</td>\n",
       "    </tr>\n",
       "    <tr>\n",
       "      <th>min</th>\n",
       "      <td>1.000000</td>\n",
       "      <td>0.000000</td>\n",
       "      <td>0.000000</td>\n",
       "      <td>0.000000</td>\n",
       "    </tr>\n",
       "    <tr>\n",
       "      <th>25%</th>\n",
       "      <td>2668.500000</td>\n",
       "      <td>3.000000</td>\n",
       "      <td>0.000000</td>\n",
       "      <td>0.000000</td>\n",
       "    </tr>\n",
       "    <tr>\n",
       "      <th>50%</th>\n",
       "      <td>5336.000000</td>\n",
       "      <td>31.000000</td>\n",
       "      <td>0.000000</td>\n",
       "      <td>0.000000</td>\n",
       "    </tr>\n",
       "    <tr>\n",
       "      <th>75%</th>\n",
       "      <td>8003.500000</td>\n",
       "      <td>229.000000</td>\n",
       "      <td>2.000000</td>\n",
       "      <td>14.000000</td>\n",
       "    </tr>\n",
       "    <tr>\n",
       "      <th>max</th>\n",
       "      <td>10671.000000</td>\n",
       "      <td>105792.000000</td>\n",
       "      <td>12428.000000</td>\n",
       "      <td>63153.000000</td>\n",
       "    </tr>\n",
       "  </tbody>\n",
       "</table>\n",
       "</div>"
      ],
      "text/plain": [
       "                SNo      Confirmed        Deaths     Recovered\n",
       "count  10671.000000   10671.000000  10671.000000  10671.000000\n",
       "mean    5336.000000     993.821666     40.667229    289.508481\n",
       "std     3080.596695    6268.835379    398.618024   3010.809184\n",
       "min        1.000000       0.000000      0.000000      0.000000\n",
       "25%     2668.500000       3.000000      0.000000      0.000000\n",
       "50%     5336.000000      31.000000      0.000000      0.000000\n",
       "75%     8003.500000     229.000000      2.000000     14.000000\n",
       "max    10671.000000  105792.000000  12428.000000  63153.000000"
      ]
     },
     "execution_count": 8,
     "metadata": {},
     "output_type": "execute_result"
    }
   ],
   "source": [
    "File.describe()"
   ]
  },
  {
   "cell_type": "code",
   "execution_count": 10,
   "metadata": {},
   "outputs": [
    {
     "data": {
      "text/plain": [
       "Index(['SNo', 'ObservationDate', 'Province/State', 'Country/Region',\n",
       "       'Last Update', 'Confirmed', 'Deaths', 'Recovered'],\n",
       "      dtype='object')"
      ]
     },
     "execution_count": 10,
     "metadata": {},
     "output_type": "execute_result"
    }
   ],
   "source": [
    "File.columns"
   ]
  },
  {
   "cell_type": "markdown",
   "metadata": {},
   "source": [
    "# Question 2"
   ]
  },
  {
   "cell_type": "code",
   "execution_count": 21,
   "metadata": {},
   "outputs": [
    {
     "data": {
      "text/plain": [
       "SNo                  int64\n",
       "ObservationDate      int32\n",
       "Province/State      object\n",
       "Country/Region      object\n",
       "Last Update         object\n",
       "Confirmed          float64\n",
       "Deaths             float64\n",
       "Recovered          float64\n",
       "dtype: object"
      ]
     },
     "execution_count": 21,
     "metadata": {},
     "output_type": "execute_result"
    }
   ],
   "source": [
    "File.dtypes"
   ]
  },
  {
   "cell_type": "code",
   "execution_count": 18,
   "metadata": {},
   "outputs": [
    {
     "data": {
      "text/plain": [
       "array([    0,     1,     2, ..., 10668, 10669, 10670], dtype=int64)"
      ]
     },
     "execution_count": 18,
     "metadata": {},
     "output_type": "execute_result"
    }
   ],
   "source": [
    "from sklearn import preprocessing\n",
    "label_encoder = preprocessing.LabelEncoder()\n",
    "File['SNo']= label_encoder.fit_transform(File['SNo'])\n",
    "  \n",
    "File['SNo'].unique()"
   ]
  },
  {
   "cell_type": "code",
   "execution_count": 19,
   "metadata": {},
   "outputs": [
    {
     "data": {
      "text/plain": [
       "array([ 0,  1,  2,  3,  4,  5,  6,  7,  8,  9, 10, 11, 12, 13, 14, 15, 16,\n",
       "       17, 18, 19, 20, 21, 22, 23, 24, 25, 26, 27, 28, 29, 30, 31, 32, 33,\n",
       "       34, 35, 36, 37, 38, 39, 40, 41, 42, 43, 44, 45, 46, 47, 48, 49, 50,\n",
       "       51, 52, 53, 54, 55, 56, 57, 58, 59, 60, 61, 62, 63, 64, 65, 66, 67,\n",
       "       68, 69])"
      ]
     },
     "execution_count": 19,
     "metadata": {},
     "output_type": "execute_result"
    }
   ],
   "source": [
    "from sklearn import preprocessing\n",
    "label_encoder = preprocessing.LabelEncoder()\n",
    "File['ObservationDate']= label_encoder.fit_transform(File['ObservationDate'])\n",
    "  \n",
    "File['ObservationDate'].unique()"
   ]
  },
  {
   "cell_type": "code",
   "execution_count": 22,
   "metadata": {},
   "outputs": [
    {
     "data": {
      "text/plain": [
       "array([  8,  15,  36,  74,  76,  86,  87,  88,  89,  94,  95,  96,  99,\n",
       "       101, 104, 108, 116, 117, 118, 130, 134, 171, 200, 226, 227, 228,\n",
       "       229, 232, 246, 251, 252, 276, 288, 291, 292, 293,  34, 106,  26,\n",
       "         9, 185, 166, 270,  22,  14, 203,  35, 236,  21, 132, 187, 219,\n",
       "       225, 248, 214, 253, 131, 136,  45,  53, 215, 213,  12, 254,  73,\n",
       "       127, 172, 103, 211, 184, 255, 128, 262,   0, 283, 195, 234, 198,\n",
       "       124,  44, 247,  79,  98, 168, 192, 217, 222, 235, 261,  75, 277,\n",
       "         1,  18, 140, 275, 282, 186, 177,  43,  17,  91, 216,  37,  68,\n",
       "        82, 202, 221, 284, 169, 264, 153, 243,  52, 245,  25,  32,  50,\n",
       "        56,  64,  67, 141, 148, 157, 179, 204, 279, 280, 289, 218,  81,\n",
       "        55, 197,   3,  24,  62, 129, 191, 210, 223,  58,  30,  38,  39,\n",
       "        48,  59, 100, 111, 113, 123, 126, 135, 190, 193, 220, 256, 155,\n",
       "       173, 154,  61, 209, 278,  19,  47,  57,  72,  90,  97, 102, 120,\n",
       "       125, 138, 142, 182, 194, 208, 231, 240, 242, 244, 260, 263, 267,\n",
       "       274,   5, 201, 119,  92,  16,  27,  31,  33,  40, 112, 114, 230,\n",
       "       239, 167, 145,  80,  77,  41,  66, 164, 188, 250, 189, 109, 144,\n",
       "       174, 237, 249, 273, 107, 122,  54, 160, 163, 149, 158, 181, 207,\n",
       "       285,  42,  93, 183, 268, 121, 133, 151, 269,   4,  10,  49, 105,\n",
       "       137, 147, 150, 152, 165, 175, 238, 281, 287,  69, 258,  51,  63,\n",
       "       241,  29, 161, 212,  78,  13, 265,  71, 139, 224,   2,  65, 199,\n",
       "       272,  70,  85, 170, 196, 146, 159, 180,  84,  46, 271,  28, 206,\n",
       "        11, 266, 259, 156,  83, 162,  20, 233, 110, 178,   6,  60, 115,\n",
       "       143, 176, 286, 205, 290,   7,  23, 257])"
      ]
     },
     "execution_count": 22,
     "metadata": {},
     "output_type": "execute_result"
    }
   ],
   "source": [
    "from sklearn import preprocessing\n",
    "label_encoder = preprocessing.LabelEncoder()\n",
    "File['Province/State']= label_encoder.fit_transform(File['Province/State'])\n",
    "  \n",
    "File['Province/State'].unique()"
   ]
  },
  {
   "cell_type": "code",
   "execution_count": 23,
   "metadata": {},
   "outputs": [
    {
     "data": {
      "text/plain": [
       "array([122,  91, 120, 191, 202, 103, 193, 182, 177, 156, 123, 210,  11,\n",
       "       131,  27,  43,  69, 139,  36,  34, 184, 101,  75,  68, 205,  94,\n",
       "       100, 201, 165, 188, 183,  20, 149,  59,  96,  99, 113,  97, 148,\n",
       "         2,  16, 109,  12,   4,  47, 189, 150,  74,  78, 146, 147, 164,\n",
       "        52,  63, 140, 171,   0,  19,  93, 117, 141, 144, 145,  98, 118,\n",
       "       133, 160,  58,  13,  51,   9,  56,  95, 158,   5, 112, 136, 172,\n",
       "       173,   8,  42, 105, 204, 167,  92,  66,  77, 116, 157, 199, 151,\n",
       "        25, 179, 181,  23,  35,  46, 155, 174, 178, 197, 208,  70, 126,\n",
       "       127, 161,  29, 124,  17, 132, 154,   3,  50, 185,  28, 214,   1,\n",
       "        30,  41,  89, 134, 152,  24,  90,  45, 102, 163, 200,  48,  87,\n",
       "       106,  38,  81,  65, 186,  85,   7,  10, 107, 206,  76, 104, 138,\n",
       "       175, 198, 209,  49,  64,  71,  83,  84, 128, 166, 169, 170, 187,\n",
       "       108,  39,  44,  61, 207,  82, 159,  22,  79, 114, 130, 162, 180,\n",
       "       192, 194,  18, 135, 195, 110, 129, 212,  54,  73,  15,  40,  60,\n",
       "        67, 142, 121,  88,   6,  33, 143, 153, 213,  37,  57,  62, 203,\n",
       "        14,  55,  72,  80, 137, 190, 196,  21, 111, 115,  53,  86, 125,\n",
       "       168, 211,  31, 119,  26,  32, 176])"
      ]
     },
     "execution_count": 23,
     "metadata": {},
     "output_type": "execute_result"
    }
   ],
   "source": [
    "from sklearn import preprocessing\n",
    "label_encoder = preprocessing.LabelEncoder()\n",
    "File['Country/Region']= label_encoder.fit_transform(File['Country/Region'])\n",
    "  \n",
    "File['Country/Region'].unique()"
   ]
  },
  {
   "cell_type": "code",
   "execution_count": 24,
   "metadata": {},
   "outputs": [
    {
     "data": {
      "text/plain": [
       "array([   0,    1,    2, ..., 1810, 1811, 1812])"
      ]
     },
     "execution_count": 24,
     "metadata": {},
     "output_type": "execute_result"
    }
   ],
   "source": [
    "from sklearn import preprocessing\n",
    "label_encoder = preprocessing.LabelEncoder()\n",
    "File['Last Update']= label_encoder.fit_transform(File['Last Update'])\n",
    "  \n",
    "File['Last Update'].unique()"
   ]
  },
  {
   "cell_type": "code",
   "execution_count": 25,
   "metadata": {},
   "outputs": [
    {
     "data": {
      "text/plain": [
       "array([   1,   14,    6, ...,  754,  920, 1285], dtype=int64)"
      ]
     },
     "execution_count": 25,
     "metadata": {},
     "output_type": "execute_result"
    }
   ],
   "source": [
    "from sklearn import preprocessing\n",
    "label_encoder = preprocessing.LabelEncoder()\n",
    "File['Confirmed']= label_encoder.fit_transform(File['Confirmed'])\n",
    "  \n",
    "File['Confirmed'].unique()"
   ]
  },
  {
   "cell_type": "code",
   "execution_count": 26,
   "metadata": {},
   "outputs": [
    {
     "data": {
      "text/plain": [
       "array([  0,  17,   1,  24,  40,  52,  74, 113,   2, 136, 152, 165, 177,\n",
       "       184, 193, 199, 203,   3, 209, 216,   4,   5, 222,   6, 224,   7,\n",
       "       229,   8, 236,  10,   9, 242,  11, 245,  13, 247, 249,  16, 252,\n",
       "        19, 255,  12, 257, 262, 264, 267, 269, 271,  20,  26, 272,  21,\n",
       "        34, 273,  29,  43, 275,  22,  54, 276,  28,  65, 278,  77,  75,\n",
       "       279,  35, 100,  90, 281, 126, 282,  42, 112, 149, 283,  44, 161,\n",
       "       124,  15, 285, 182,  50, 147, 286, 191,  53, 162, 287, 205, 173,\n",
       "        33,  23, 288, 217, 179,  59,  48, 289, 186,  55,  31, 290, 234,\n",
       "       195, 118,  37, 291, 241, 202,  70, 148,  89, 292, 250, 211,  73,\n",
       "       172,  14, 293, 258, 219, 176,  27, 294, 265, 225, 197,  79, 295,\n",
       "       284, 231, 204,  82,  69,  57, 296, 309, 235, 218, 164,  41, 120,\n",
       "        72,  18,  25, 297, 312, 228,  66, 240, 190,  91, 139,  99,  81,\n",
       "        32, 298, 314, 238, 244, 200,  96, 119,  38, 208, 246, 316,  36,\n",
       "       141,  97, 248,  93,  30, 170, 299, 107,  92,  86, 111,  49, 251,\n",
       "       318, 156, 104, 260, 109, 175,  39, 220, 300, 132, 102, 110,  46,\n",
       "       230, 131, 253, 320, 169, 277, 185, 301, 155, 106, 140,  58, 237,\n",
       "       154, 256, 321,  45, 180, 114, 311,  61, 130, 192,  64, 302, 171,\n",
       "       158, 168,  76, 259, 323,  47, 189, 116, 313, 146, 201, 303,  60,\n",
       "       183, 127, 254,  85, 263, 325, 198, 121, 315,  98, 160, 213,  63,\n",
       "       304, 108, 101, 196,  67, 178, 261, 188, 266, 326, 206,  95, 123,\n",
       "       317, 167, 226, 103,  68, 305, 122, 212, 145,  84, 187, 268, 105,\n",
       "       270, 327, 214, 129, 319, 174, 233,  56,  78, 306, 128, 117, 135,\n",
       "       223, 150, 194, 133, 207, 274, 328, 221, 322, 125, 181, 137, 239,\n",
       "        62, 307,  71, 144, 143, 232, 153, 115, 210, 151,  88,  51, 310,\n",
       "       215, 280, 329, 227, 134,  80, 324, 142, 157, 138,  83, 308,  94,\n",
       "       163,  87, 166, 243, 159], dtype=int64)"
      ]
     },
     "execution_count": 26,
     "metadata": {},
     "output_type": "execute_result"
    }
   ],
   "source": [
    "from sklearn import preprocessing\n",
    "label_encoder = preprocessing.LabelEncoder()\n",
    "File['Deaths']= label_encoder.fit_transform(File['Deaths'])\n",
    "  \n",
    "File['Deaths'].unique()"
   ]
  },
  {
   "cell_type": "code",
   "execution_count": 27,
   "metadata": {},
   "outputs": [
    {
     "data": {
      "text/plain": [
       "array([  0,  28,   2,  31,   1,  32,  42,  45,   4,   3,  80,   5,  88,\n",
       "        90,  10, 139,  14,  11,   7,   9, 162,  21,   8,   6, 265,  15,\n",
       "        16,  12, 326,  43,  22,  18, 397,  62,  30,  27,  20,  23, 442,\n",
       "        49,  78,  47,  54,  24,  13, 488,  69,  94,  56,  81,  37,  34,\n",
       "        25, 553, 122,  86, 111,  33,  17, 610, 168, 115, 151,  59,  55,\n",
       "        51,  39,  44,  60,  41, 619, 186, 149, 176,  72,  73,  71,  63,\n",
       "        35,  19, 625, 161, 225, 180, 192, 104,  66,  48, 628, 196, 244,\n",
       "       201, 228, 127,  93,  79,  85,  52, 630, 248, 227, 287, 274, 126,\n",
       "       148, 124, 101,  92,  57,  53,  26, 640, 281, 266, 312, 300, 152,\n",
       "       164, 137, 103,  68,  46,  36, 651, 314, 310, 335, 315, 182, 177,\n",
       "       135, 113,  87,  38,  29, 659, 340, 330, 350, 349, 204, 194, 175,\n",
       "       118,  98, 123, 100, 665, 374, 356, 367, 373, 233, 223, 191, 167,\n",
       "       130, 107, 138,  82,  50,  40, 673, 399, 388, 387, 384, 252, 236,\n",
       "       208, 156, 121,  58, 679, 417, 404, 402, 313, 279, 232, 195, 163,\n",
       "       110, 170,  89,  61, 685, 432, 422, 431, 414, 342, 284, 247, 214,\n",
       "       178, 119, 142,  84,  70,  65, 691, 446, 445, 443, 378, 352, 309,\n",
       "       269, 200, 185, 125, 117,  76, 692, 454, 465, 451, 448, 407, 382,\n",
       "       253, 320, 283, 145,  97, 133,  96,  95,  77, 702, 462, 491, 459,\n",
       "       455, 429, 413, 272, 334, 292, 231, 189, 171, 210, 188, 157, 106,\n",
       "       703, 477, 499, 478, 458, 434, 345, 298, 239, 205, 179, 230, 202,\n",
       "       105, 158, 114, 706, 482, 520, 480, 463, 449, 447, 303, 363, 305,\n",
       "       249, 184, 217, 174, 708, 490, 533, 486, 479, 457, 453, 308, 368,\n",
       "       319, 260, 226, 198, 243, 229, 128,  91,  83, 710, 495, 538, 498,\n",
       "       481, 468, 321, 379, 325, 277, 218, 246, 143, 181, 141, 711, 505,\n",
       "       543, 515, 485, 484, 476, 327, 211, 183, 146,  67, 712, 517, 551,\n",
       "       526, 489, 483, 337, 393, 347, 299, 255, 235, 251, 250, 132, 713,\n",
       "       528, 560, 536, 493, 487, 346, 398, 355, 306, 271, 245, 258, 254,\n",
       "       169, 144, 108,  75, 714, 566, 540, 497, 502, 492, 359, 405, 362,\n",
       "       316, 302, 261, 264, 173, 102,  64, 715, 262, 541, 567, 544, 504,\n",
       "       511, 494, 370, 409, 377, 263, 199, 147, 716, 155, 549, 576, 547,\n",
       "       507, 518, 501, 390, 415, 383, 331, 317, 259, 270, 238, 187, 150,\n",
       "       717, 411, 555, 577, 552, 510, 522, 503, 394, 423, 385, 338, 267,\n",
       "       268, 206, 153, 718, 343, 466, 562, 579, 554, 519, 525, 506, 424,\n",
       "       425, 391, 323, 273, 197, 207, 719, 134, 509, 569, 580, 557, 521,\n",
       "       527, 508, 435, 428, 392, 358, 332, 276, 275, 256, 209, 720, 427,\n",
       "       617, 578, 558, 523, 438, 401, 365, 280, 721, 437, 623, 585, 581,\n",
       "       559, 524, 529, 512, 433, 341, 278, 154, 116, 722, 460, 627, 586,\n",
       "       561, 513, 456, 436, 408, 375, 351, 282, 213, 129, 723, 631, 587,\n",
       "       563, 530, 514, 410, 353, 286, 285, 724, 539, 635, 588, 582, 564,\n",
       "       531, 461, 289, 412, 381, 354, 290, 221, 215, 725, 296, 589, 565,\n",
       "       532, 516, 464, 439, 416, 357, 297, 224, 136, 131, 726, 590, 534,\n",
       "       440, 418, 386, 360, 288, 389, 727, 621, 395, 591, 583, 568, 535,\n",
       "       467, 420, 361, 166, 140, 112, 728, 626, 650, 592, 441, 421, 364,\n",
       "       307, 729, 632, 403, 556, 593, 469, 366, 216, 730, 634, 657, 537,\n",
       "       609, 594, 396, 318, 219, 731, 646, 546, 613, 595, 400, 369, 322,\n",
       "       220, 732, 648, 663, 550, 596, 570, 470, 324,  99,  74, 733, 614,\n",
       "       172, 667, 597, 571, 471, 329, 372, 734, 664, 622, 672, 240, 598,\n",
       "       472, 291, 222, 165, 624, 242, 669, 633, 333, 419, 599, 735, 473,\n",
       "       159, 676, 671, 636, 639, 600, 736, 474, 293, 572, 371, 638, 637,\n",
       "       678, 675, 257, 641, 644, 601, 376, 737, 109, 304, 294, 426, 645,\n",
       "       642, 684, 682, 643, 656, 602, 738, 450, 653, 661, 687, 686, 311,\n",
       "       647, 668, 120, 739, 452, 295, 573, 496, 662, 666, 689, 688, 237,\n",
       "       649, 681, 612, 339, 603, 740, 234, 500, 241, 542, 677, 690, 694,\n",
       "       336, 652, 693, 604, 584, 741, 545, 574, 380, 608, 430, 670, 680,\n",
       "       695, 696, 348, 328, 190, 654, 701, 616, 605, 742, 629, 444, 611,\n",
       "       674, 697, 698, 699, 193, 655, 707, 620, 212, 344, 606, 743, 660,\n",
       "       475, 548, 618, 683, 705, 700, 704, 406, 203, 160, 658, 709, 607,\n",
       "       744, 615, 301, 575], dtype=int64)"
      ]
     },
     "execution_count": 27,
     "metadata": {},
     "output_type": "execute_result"
    }
   ],
   "source": [
    "from sklearn import preprocessing\n",
    "label_encoder = preprocessing.LabelEncoder()\n",
    "File['Recovered']= label_encoder.fit_transform(File['Recovered'])\n",
    "  \n",
    "File['Recovered'].unique()"
   ]
  },
  {
   "cell_type": "code",
   "execution_count": 30,
   "metadata": {},
   "outputs": [
    {
     "data": {
      "text/plain": [
       "SNo                int64\n",
       "ObservationDate    int32\n",
       "Province/State     int32\n",
       "Country/Region     int32\n",
       "Last Update        int32\n",
       "Confirmed          int64\n",
       "Deaths             int64\n",
       "Recovered          int64\n",
       "dtype: object"
      ]
     },
     "execution_count": 30,
     "metadata": {},
     "output_type": "execute_result"
    }
   ],
   "source": [
    "File.dtypes"
   ]
  },
  {
   "cell_type": "code",
   "execution_count": 3,
   "metadata": {},
   "outputs": [
    {
     "name": "stdout",
     "output_type": "stream",
     "text": [
      "[[ 5  1 25 ... 22 84 96]\n",
      " [85 70 96 ... 65 37 84]\n",
      " [72 92 62 ... 31 38 86]\n",
      " ...\n",
      " [60 13 28 ... 53 40 33]\n",
      " [73  4 92 ...  4 44 82]\n",
      " [42 44 35 ... 81 99 49]]\n"
     ]
    },
    {
     "data": {
      "image/png": "[encoded data removed]",
      "text/plain": [
       "<Figure size 432x288 with 2 Axes>"
      ]
     },
     "metadata": {
      "needs_background": "light"
     },
     "output_type": "display_data"
    }
   ],
   "source": [
    "import matplotlib.pyplot as plt\n",
    "import seaborn as sns\n",
    "import numpy as np\n",
    "\n",
    "data = np.random.randint(low = 1,high = 100,size = (10671, 8))\n",
    "print(data)\n",
    "hm = sns.heatmap(data = data)\n"
   ]
  },
  {
   "cell_type": "code",
   "execution_count": 15,
   "metadata": {},
   "outputs": [
    {
     "data": {
      "image/png": "[encoded data removed]",
      "text/plain": [
       "<Figure size 720x720 with 20 Axes>"
      ]
     },
     "metadata": {
      "needs_background": "light"
     },
     "output_type": "display_data"
    }
   ],
   "source": [
    "\n",
    "import seaborn as sns\n",
    "import matplotlib.pyplot as plt\n",
    "import pandas as pd\n",
    "  \n",
    "\n",
    "File = pd.read_csv('https://raw.githubusercontent.com/ACM-Amrita-Amritapuri/AI-Daily-Tasks/main/Data%20Pre-Processing%20(8-11-22)/Data_Set.csv')\n",
    "sns.pairplot(File)\n",
    "\n",
    "plt.show()"
   ]
  },
  {
   "cell_type": "markdown",
   "metadata": {},
   "source": [
    "Pair plot is used to understand the best set of features to explain a relationship between two variables or to form the most separated clusters"
   ]
  },
  {
   "cell_type": "code",
   "execution_count": 18,
   "metadata": {},
   "outputs": [
    {
     "data": {
      "text/plain": [
       "<matplotlib.collections.PathCollection at 0x1c6c2c34c10>"
      ]
     },
     "execution_count": 18,
     "metadata": {},
     "output_type": "execute_result"
    },
    {
     "data": {
      "image/png": "[encoded data removed]",
      "text/plain": [
       "<Figure size 432x288 with 1 Axes>"
      ]
     },
     "metadata": {
      "needs_background": "light"
     },
     "output_type": "display_data"
    }
   ],
   "source": [
    "import matplotlib.pyplot as plt\n",
    "import pandas as pd\n",
    "  \n",
    "\n",
    "File = pd.read_csv('https://raw.githubusercontent.com/ACM-Amrita-Amritapuri/AI-Daily-Tasks/main/Data%20Pre-Processing%20(8-11-22)/Data_Set.csv')\n",
    "\n",
    "plt.scatter(File.Confirmed,File.Deaths)"
   ]
  },
  {
   "cell_type": "markdown",
   "metadata": {},
   "source": [
    "If we draw a straight prediction line the error would be less because all point are crowded at one point and the points are not scattered much , therefore we would get a good fit for this data set ."
   ]
  }
 ],
 "metadata": {
  "kernelspec": {
   "display_name": "Python 3.9.7 ('base')",
   "language": "python",
   "name": "python3"
  },
  "language_info": {
   "codemirror_mode": {
    "name": "ipython",
    "version": 3
   },
   "file_extension": ".py",
   "mimetype": "text/x-python",
   "name": "python",
   "nbconvert_exporter": "python",
   "pygments_lexer": "ipython3",
   "version": "3.9.7"
  },
  "orig_nbformat": 4,
  "vscode": {
   "interpreter": {
    "hash": "5f97e0dc593c2b833fd29d1d0359c7008c714aacd92e70106ab317cbe4f317e1"
   }
  }
 },
 "nbformat": 4,
 "nbformat_minor": 2
}
