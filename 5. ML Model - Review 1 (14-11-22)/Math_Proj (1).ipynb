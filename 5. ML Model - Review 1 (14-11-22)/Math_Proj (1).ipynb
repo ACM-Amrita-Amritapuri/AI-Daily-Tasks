{
  "nbformat": 4,
  "nbformat_minor": 0,
  "metadata": {
    "colab": {
      "provenance": [],
      "collapsed_sections": [
        "OTznNXF8KUAH",
        "1rkZGFNlKaPw",
        "B5Lf-NInKzql",
        "HDw0f7U8K5zb",
        "pnXx8VDSLC-S"
      ]
    },
    "kernelspec": {
      "name": "python3",
      "display_name": "Python 3"
    },
    "language_info": {
      "name": "python"
    }
  },
  "cells": [
    {
      "cell_type": "code",
      "execution_count": null,
      "metadata": {
        "colab": {
          "base_uri": "https://localhost:8080/"
        },
        "id": "7q_JPrTfTX2Z",
        "outputId": "5a08b00c-8a60-4274-8b6b-6e32b588671a"
      },
      "outputs": [
        {
          "output_type": "stream",
          "name": "stdout",
          "text": [
            "www.nasdaq.com/market-activity/stocks/BIO\n",
            "            Date        Open        High         Low       Close   Adj Close  \\\n",
            "0     2010-06-29   19.000000   25.000000   17.540001   23.889999   23.889999   \n",
            "1     2010-06-30   25.790001   30.420000   23.299999   23.830000   23.830000   \n",
            "2     2010-07-01   25.000000   25.920000   20.270000   21.959999   21.959999   \n",
            "3     2010-07-02   23.000000   23.100000   18.709999   19.200001   19.200001   \n",
            "4     2010-07-06   20.000000   20.000000   15.830000   16.110001   16.110001   \n",
            "...          ...         ...         ...         ...         ...         ...   \n",
            "2411  2020-01-28  568.489990  576.809998  558.080017  566.900024  566.900024   \n",
            "2412  2020-01-29  575.690002  589.799988  567.429993  580.989990  580.989990   \n",
            "2413  2020-01-30  632.419983  650.880005  618.000000  640.809998  640.809998   \n",
            "2414  2020-01-31  640.000000  653.000000  632.520020  650.570007  650.570007   \n",
            "2415  2020-02-03  673.690002  786.140015  673.520020  780.000000  780.000000   \n",
            "\n",
            "        Volume  \n",
            "0     18766300  \n",
            "1     17187100  \n",
            "2      8218800  \n",
            "3      5139800  \n",
            "4      6866900  \n",
            "...        ...  \n",
            "2411  11788500  \n",
            "2412  17801500  \n",
            "2413  29005700  \n",
            "2414  15719300  \n",
            "2415  47065000  \n",
            "\n",
            "[2416 rows x 7 columns]\n"
          ]
        }
      ],
      "source": [
        "import pandas as pd\n",
        "import matplotlib.pyplot as plt\n",
        "from sklearn.model_selection import train_test_split\n",
        "import requests\n",
        "import csv\n",
        "url = 'http://api.marketstack.com/v1/tickers?access_key=dd3a2e191efbf0af92a61e70a1d180be'\n",
        "data = requests.get(url).json()\n",
        "\n",
        "sym = 'BIO'\n",
        "y = len(data['data'])\n",
        "for i in range(y):\n",
        "  if data['data'][i]['symbol'] == sym:\n",
        "    base_link = data['data'][i]['stock_exchange']['website']\n",
        "    link = base_link + '/market-activity/stocks/' + sym\n",
        "    print(link)\n",
        "    break\n",
        "  else:\n",
        "    link = 'www.nasdaq.com/market-activity/stocks/' + sym\n",
        "    print(link)\n",
        "    break\n",
        "df = pd.read_csv('TSLA.csv')\n",
        "print(df)\n"
      ]
    },
    {
      "cell_type": "code",
      "source": [
        "corr=df.corr()\n",
        "corr.style.background_gradient(cmap=\"inferno\")\n",
        "# import seaborn as sb\n",
        "# dataplot = sb.heatmap(df.corr(), cmap=\"YlGnBu\", annot=True)"
      ],
      "metadata": {
        "colab": {
          "base_uri": "https://localhost:8080/",
          "height": 238
        },
        "id": "laohvM0TW3Uz",
        "outputId": "c5d76fd1-8891-4512-d893-0f3e612e8cea"
      },
      "execution_count": null,
      "outputs": [
        {
          "output_type": "execute_result",
          "data": {
            "text/plain": [
              "<pandas.io.formats.style.Styler at 0x7f5628cc8710>"
            ],
            "text/html": [
              "<style type=\"text/css\">\n",
              "#T_8b163_row0_col0, #T_8b163_row0_col1, #T_8b163_row0_col2, #T_8b163_row0_col3, #T_8b163_row0_col4, #T_8b163_row1_col0, #T_8b163_row1_col1, #T_8b163_row1_col2, #T_8b163_row1_col3, #T_8b163_row1_col4, #T_8b163_row2_col0, #T_8b163_row2_col1, #T_8b163_row2_col2, #T_8b163_row2_col3, #T_8b163_row2_col4, #T_8b163_row3_col0, #T_8b163_row3_col1, #T_8b163_row3_col2, #T_8b163_row3_col3, #T_8b163_row3_col4, #T_8b163_row4_col0, #T_8b163_row4_col1, #T_8b163_row4_col2, #T_8b163_row4_col3, #T_8b163_row4_col4, #T_8b163_row5_col5 {\n",
              "  background-color: #fcffa4;\n",
              "  color: #000000;\n",
              "}\n",
              "#T_8b163_row0_col5 {\n",
              "  background-color: #02010a;\n",
              "  color: #f1f1f1;\n",
              "}\n",
              "#T_8b163_row1_col5 {\n",
              "  background-color: #040314;\n",
              "  color: #f1f1f1;\n",
              "}\n",
              "#T_8b163_row2_col5, #T_8b163_row5_col0, #T_8b163_row5_col1, #T_8b163_row5_col2, #T_8b163_row5_col3, #T_8b163_row5_col4 {\n",
              "  background-color: #000004;\n",
              "  color: #f1f1f1;\n",
              "}\n",
              "#T_8b163_row3_col5, #T_8b163_row4_col5 {\n",
              "  background-color: #02020c;\n",
              "  color: #f1f1f1;\n",
              "}\n",
              "</style>\n",
              "<table id=\"T_8b163_\" class=\"dataframe\">\n",
              "  <thead>\n",
              "    <tr>\n",
              "      <th class=\"blank level0\" >&nbsp;</th>\n",
              "      <th class=\"col_heading level0 col0\" >Open</th>\n",
              "      <th class=\"col_heading level0 col1\" >High</th>\n",
              "      <th class=\"col_heading level0 col2\" >Low</th>\n",
              "      <th class=\"col_heading level0 col3\" >Close</th>\n",
              "      <th class=\"col_heading level0 col4\" >Adj Close</th>\n",
              "      <th class=\"col_heading level0 col5\" >Volume</th>\n",
              "    </tr>\n",
              "  </thead>\n",
              "  <tbody>\n",
              "    <tr>\n",
              "      <th id=\"T_8b163_level0_row0\" class=\"row_heading level0 row0\" >Open</th>\n",
              "      <td id=\"T_8b163_row0_col0\" class=\"data row0 col0\" >1.000000</td>\n",
              "      <td id=\"T_8b163_row0_col1\" class=\"data row0 col1\" >0.999425</td>\n",
              "      <td id=\"T_8b163_row0_col2\" class=\"data row0 col2\" >0.999575</td>\n",
              "      <td id=\"T_8b163_row0_col3\" class=\"data row0 col3\" >0.998886</td>\n",
              "      <td id=\"T_8b163_row0_col4\" class=\"data row0 col4\" >0.998886</td>\n",
              "      <td id=\"T_8b163_row0_col5\" class=\"data row0 col5\" >0.501762</td>\n",
              "    </tr>\n",
              "    <tr>\n",
              "      <th id=\"T_8b163_level0_row1\" class=\"row_heading level0 row1\" >High</th>\n",
              "      <td id=\"T_8b163_row1_col0\" class=\"data row1 col0\" >0.999425</td>\n",
              "      <td id=\"T_8b163_row1_col1\" class=\"data row1 col1\" >1.000000</td>\n",
              "      <td id=\"T_8b163_row1_col2\" class=\"data row1 col2\" >0.999389</td>\n",
              "      <td id=\"T_8b163_row1_col3\" class=\"data row1 col3\" >0.999640</td>\n",
              "      <td id=\"T_8b163_row1_col4\" class=\"data row1 col4\" >0.999640</td>\n",
              "      <td id=\"T_8b163_row1_col5\" class=\"data row1 col5\" >0.512944</td>\n",
              "    </tr>\n",
              "    <tr>\n",
              "      <th id=\"T_8b163_level0_row2\" class=\"row_heading level0 row2\" >Low</th>\n",
              "      <td id=\"T_8b163_row2_col0\" class=\"data row2 col0\" >0.999575</td>\n",
              "      <td id=\"T_8b163_row2_col1\" class=\"data row2 col1\" >0.999389</td>\n",
              "      <td id=\"T_8b163_row2_col2\" class=\"data row2 col2\" >1.000000</td>\n",
              "      <td id=\"T_8b163_row2_col3\" class=\"data row2 col3\" >0.999447</td>\n",
              "      <td id=\"T_8b163_row2_col4\" class=\"data row2 col4\" >0.999447</td>\n",
              "      <td id=\"T_8b163_row2_col5\" class=\"data row2 col5\" >0.493496</td>\n",
              "    </tr>\n",
              "    <tr>\n",
              "      <th id=\"T_8b163_level0_row3\" class=\"row_heading level0 row3\" >Close</th>\n",
              "      <td id=\"T_8b163_row3_col0\" class=\"data row3 col0\" >0.998886</td>\n",
              "      <td id=\"T_8b163_row3_col1\" class=\"data row3 col1\" >0.999640</td>\n",
              "      <td id=\"T_8b163_row3_col2\" class=\"data row3 col2\" >0.999447</td>\n",
              "      <td id=\"T_8b163_row3_col3\" class=\"data row3 col3\" >1.000000</td>\n",
              "      <td id=\"T_8b163_row3_col4\" class=\"data row3 col4\" >1.000000</td>\n",
              "      <td id=\"T_8b163_row3_col5\" class=\"data row3 col5\" >0.505169</td>\n",
              "    </tr>\n",
              "    <tr>\n",
              "      <th id=\"T_8b163_level0_row4\" class=\"row_heading level0 row4\" >Adj Close</th>\n",
              "      <td id=\"T_8b163_row4_col0\" class=\"data row4 col0\" >0.998886</td>\n",
              "      <td id=\"T_8b163_row4_col1\" class=\"data row4 col1\" >0.999640</td>\n",
              "      <td id=\"T_8b163_row4_col2\" class=\"data row4 col2\" >0.999447</td>\n",
              "      <td id=\"T_8b163_row4_col3\" class=\"data row4 col3\" >1.000000</td>\n",
              "      <td id=\"T_8b163_row4_col4\" class=\"data row4 col4\" >1.000000</td>\n",
              "      <td id=\"T_8b163_row4_col5\" class=\"data row4 col5\" >0.505169</td>\n",
              "    </tr>\n",
              "    <tr>\n",
              "      <th id=\"T_8b163_level0_row5\" class=\"row_heading level0 row5\" >Volume</th>\n",
              "      <td id=\"T_8b163_row5_col0\" class=\"data row5 col0\" >0.501762</td>\n",
              "      <td id=\"T_8b163_row5_col1\" class=\"data row5 col1\" >0.512944</td>\n",
              "      <td id=\"T_8b163_row5_col2\" class=\"data row5 col2\" >0.493496</td>\n",
              "      <td id=\"T_8b163_row5_col3\" class=\"data row5 col3\" >0.505169</td>\n",
              "      <td id=\"T_8b163_row5_col4\" class=\"data row5 col4\" >0.505169</td>\n",
              "      <td id=\"T_8b163_row5_col5\" class=\"data row5 col5\" >1.000000</td>\n",
              "    </tr>\n",
              "  </tbody>\n",
              "</table>\n"
            ]
          },
          "metadata": {},
          "execution_count": 74
        }
      ]
    },
    {
      "cell_type": "markdown",
      "source": [
        "# Model 1"
      ],
      "metadata": {
        "id": "xl1MdniuT0Q8"
      }
    },
    {
      "cell_type": "code",
      "source": [
        "pip install pandas_ta\n"
      ],
      "metadata": {
        "colab": {
          "base_uri": "https://localhost:8080/"
        },
        "id": "N-VAjuWUeR_m",
        "outputId": "d0511487-78ff-4562-9e97-087735a2108d"
      },
      "execution_count": null,
      "outputs": [
        {
          "output_type": "stream",
          "name": "stdout",
          "text": [
            "Looking in indexes: https://pypi.org/simple, https://us-python.pkg.dev/colab-wheels/public/simple/\n",
            "Requirement already satisfied: pandas_ta in /usr/local/lib/python3.7/dist-packages (0.3.14b0)\n",
            "Requirement already satisfied: pandas in /usr/local/lib/python3.7/dist-packages (from pandas_ta) (1.3.5)\n",
            "Requirement already satisfied: python-dateutil>=2.7.3 in /usr/local/lib/python3.7/dist-packages (from pandas->pandas_ta) (2.8.2)\n",
            "Requirement already satisfied: pytz>=2017.3 in /usr/local/lib/python3.7/dist-packages (from pandas->pandas_ta) (2022.1)\n",
            "Requirement already satisfied: numpy>=1.17.3 in /usr/local/lib/python3.7/dist-packages (from pandas->pandas_ta) (1.21.6)\n",
            "Requirement already satisfied: six>=1.5 in /usr/local/lib/python3.7/dist-packages (from python-dateutil>=2.7.3->pandas->pandas_ta) (1.15.0)\n"
          ]
        }
      ]
    },
    {
      "cell_type": "code",
      "source": [
        "df.set_index(pd.DatetimeIndex(df['Date']), inplace=True)\n",
        "df1 = df[['Close']]\n",
        "print(df1)"
      ],
      "metadata": {
        "colab": {
          "base_uri": "https://localhost:8080/"
        },
        "id": "FbwE-3G3dPMK",
        "outputId": "07a43ee8-ae91-4e35-b066-83f2250d64fe"
      },
      "execution_count": null,
      "outputs": [
        {
          "output_type": "stream",
          "name": "stdout",
          "text": [
            "                 Close\n",
            "Date                  \n",
            "2010-06-29   23.889999\n",
            "2010-06-30   23.830000\n",
            "2010-07-01   21.959999\n",
            "2010-07-02   19.200001\n",
            "2010-07-06   16.110001\n",
            "...                ...\n",
            "2020-01-28  566.900024\n",
            "2020-01-29  580.989990\n",
            "2020-01-30  640.809998\n",
            "2020-01-31  650.570007\n",
            "2020-02-03  780.000000\n",
            "\n",
            "[2416 rows x 1 columns]\n"
          ]
        }
      ]
    },
    {
      "cell_type": "code",
      "source": [
        "plt.plot(df1[['Close']])"
      ],
      "metadata": {
        "colab": {
          "base_uri": "https://localhost:8080/",
          "height": 283
        },
        "id": "d_ffvJyxeFTc",
        "outputId": "af24faae-1c8f-4a58-b76c-462d781b8ed8"
      },
      "execution_count": null,
      "outputs": [
        {
          "output_type": "execute_result",
          "data": {
            "text/plain": [
              "[<matplotlib.lines.Line2D at 0x7f562a58e590>]"
            ]
          },
          "metadata": {},
          "execution_count": 54
        },
        {
          "output_type": "display_data",
          "data": {
            "text/plain": [
              "<Figure size 432x288 with 1 Axes>"
            ],
            "image/png": "[encoded data removed]"
          },
          "metadata": {
            "needs_background": "light"
          }
        }
      ]
    },
    {
      "cell_type": "code",
      "source": [
        "import pandas_ta\n",
        "df1.ta.ema(close='Close', length=10, append=True)\n",
        "df1= df1.iloc[10:]\n",
        "print(df1)"
      ],
      "metadata": {
        "colab": {
          "base_uri": "https://localhost:8080/"
        },
        "id": "9uEg84KFexLH",
        "outputId": "72e18668-5adc-4d4b-ed0c-f8d9fc9db299"
      },
      "execution_count": null,
      "outputs": [
        {
          "output_type": "stream",
          "name": "stdout",
          "text": [
            "                 Close      EMA_10\n",
            "Date                              \n",
            "2010-07-14   19.840000   19.221454\n",
            "2010-07-15   19.889999   19.343008\n",
            "2010-07-16   20.639999   19.578824\n",
            "2010-07-19   21.910000   20.002675\n",
            "2010-07-20   20.299999   20.056734\n",
            "...                ...         ...\n",
            "2020-01-28  566.900024  543.363842\n",
            "2020-01-29  580.989990  550.204960\n",
            "2020-01-30  640.809998  566.678603\n",
            "2020-01-31  650.570007  581.931586\n",
            "2020-02-03  780.000000  617.944025\n",
            "\n",
            "[2406 rows x 2 columns]\n"
          ]
        },
        {
          "output_type": "stream",
          "name": "stderr",
          "text": [
            "/usr/local/lib/python3.7/dist-packages/pandas_ta/core.py:426: SettingWithCopyWarning: \n",
            "A value is trying to be set on a copy of a slice from a DataFrame.\n",
            "Try using .loc[row_indexer,col_indexer] = value instead\n",
            "\n",
            "See the caveats in the documentation: https://pandas.pydata.org/pandas-docs/stable/user_guide/indexing.html#returning-a-view-versus-a-copy\n",
            "  df[ind_name] = result\n"
          ]
        }
      ]
    },
    {
      "cell_type": "code",
      "source": [
        "# plt.plot(df1[['Close']],df1[['EMA_10']])"
      ],
      "metadata": {
        "id": "kupFD21RD44p"
      },
      "execution_count": null,
      "outputs": []
    },
    {
      "cell_type": "code",
      "source": [
        "plt.plot(df1[['EMA_10']])\n"
      ],
      "metadata": {
        "colab": {
          "base_uri": "https://localhost:8080/",
          "height": 283
        },
        "id": "fG3ITnD6gKJc",
        "outputId": "d204aaf9-d6a3-4d9c-ba8f-4d657ccf5a14"
      },
      "execution_count": null,
      "outputs": [
        {
          "output_type": "execute_result",
          "data": {
            "text/plain": [
              "[<matplotlib.lines.Line2D at 0x7f5628f9ef10>]"
            ]
          },
          "metadata": {},
          "execution_count": 57
        },
        {
          "output_type": "display_data",
          "data": {
            "text/plain": [
              "<Figure size 432x288 with 1 Axes>"
            ],
            "image/png": "[encoded data removed]"
          },
          "metadata": {
            "needs_background": "light"
          }
        }
      ]
    },
    {
      "cell_type": "code",
      "source": [
        "plt.plot(df1[['Close']])\n",
        "# plt.plot(df1[['Adj Close']]);"
      ],
      "metadata": {
        "colab": {
          "base_uri": "https://localhost:8080/",
          "height": 283
        },
        "id": "W_oUrImqRvZe",
        "outputId": "43112c79-604b-4923-cad8-d2224f0ecb63"
      },
      "execution_count": null,
      "outputs": [
        {
          "output_type": "execute_result",
          "data": {
            "text/plain": [
              "[<matplotlib.lines.Line2D at 0x7f5628f155d0>]"
            ]
          },
          "metadata": {},
          "execution_count": 58
        },
        {
          "output_type": "display_data",
          "data": {
            "text/plain": [
              "<Figure size 432x288 with 1 Axes>"
            ],
            "image/png": "[encoded data removed]"
          },
          "metadata": {
            "needs_background": "light"
          }
        }
      ]
    },
    {
      "cell_type": "code",
      "source": [
        "X1_train, X1_test, y1_train, y1_test = train_test_split(df1[['Close']], df1[['EMA_10']], test_size=.2)"
      ],
      "metadata": {
        "id": "ZwVibG5BiDyJ"
      },
      "execution_count": null,
      "outputs": []
    },
    {
      "cell_type": "code",
      "source": [
        "from sklearn.linear_model import LinearRegression\n",
        "model = LinearRegression()\n",
        "model.fit(X1_train, y1_train)\n",
        "y1_pred = model.predict(X1_test)\n",
        "#print(y_pred)\n",
        "plt.plot(X1_test,y1_pred)\n",
        "plt.scatter(X1_test,y1_test,color=\"orange\",edgecolors=\"black\")\n",
        "plt.xlabel(\"Close Value of Stock\")\n",
        "plt.ylabel(\"EMA_10 of Closing values\")"
      ],
      "metadata": {
        "colab": {
          "base_uri": "https://localhost:8080/",
          "height": 301
        },
        "id": "o8q7vS6_i1Fs",
        "outputId": "a1e1abc5-ee6a-4b45-8de8-0e50987520cb"
      },
      "execution_count": null,
      "outputs": [
        {
          "output_type": "execute_result",
          "data": {
            "text/plain": [
              "Text(0, 0.5, 'EMA_10 of Closing values')"
            ]
          },
          "metadata": {},
          "execution_count": 60
        },
        {
          "output_type": "display_data",
          "data": {
            "text/plain": [
              "<Figure size 432x288 with 1 Axes>"
            ],
            "image/png": "[encoded data removed]"
          },
          "metadata": {
            "needs_background": "light"
          }
        }
      ]
    },
    {
      "cell_type": "code",
      "source": [
        "from sklearn.metrics import mean_squared_error, r2_score, mean_absolute_error\n",
        "\n",
        "print(\"Model Coefficients:\", model.coef_)\n",
        "print(\"Mean Absolute Error:\", mean_absolute_error(y1_test, y1_pred))\n",
        "print(\"Coefficient of Determination:\", r2_score(y1_test, y1_pred))\n",
        "print(\"Mean Squared Error:\", mean_squared_error(y1_test, y1_pred))\n"
      ],
      "metadata": {
        "colab": {
          "base_uri": "https://localhost:8080/"
        },
        "id": "RIqBHl2CUCJO",
        "outputId": "bcfe1b4d-fc7b-41cf-eb07-9c2fdec6e8c7"
      },
      "execution_count": null,
      "outputs": [
        {
          "output_type": "stream",
          "name": "stdout",
          "text": [
            "Model Coefficients: [[0.98098844]]\n",
            "Mean Absolute Error: 6.1342866995017475\n",
            "Coefficient of Determination: 0.9941079767161183\n",
            "Mean Squared Error: 83.34613110833597\n"
          ]
        }
      ]
    },
    {
      "cell_type": "markdown",
      "source": [
        "# Model 2"
      ],
      "metadata": {
        "id": "7mB11jHbT7qB"
      }
    },
    {
      "cell_type": "code",
      "source": [
        "df.set_index(pd.DatetimeIndex(df['Date']), inplace=True)\n",
        "df0 = df[['Adj Close']]\n",
        "print(df0)"
      ],
      "metadata": {
        "colab": {
          "base_uri": "https://localhost:8080/"
        },
        "id": "W3eAhtLXVJXR",
        "outputId": "64c0a7e6-e3e4-4685-ec5c-77146886a5c4"
      },
      "execution_count": null,
      "outputs": [
        {
          "output_type": "stream",
          "name": "stdout",
          "text": [
            "             Adj Close\n",
            "Date                  \n",
            "2010-06-29   23.889999\n",
            "2010-06-30   23.830000\n",
            "2010-07-01   21.959999\n",
            "2010-07-02   19.200001\n",
            "2010-07-06   16.110001\n",
            "...                ...\n",
            "2020-01-28  566.900024\n",
            "2020-01-29  580.989990\n",
            "2020-01-30  640.809998\n",
            "2020-01-31  650.570007\n",
            "2020-02-03  780.000000\n",
            "\n",
            "[2416 rows x 1 columns]\n"
          ]
        }
      ]
    },
    {
      "cell_type": "code",
      "source": [
        "plt.plot(df0[['Adj Close']])"
      ],
      "metadata": {
        "colab": {
          "base_uri": "https://localhost:8080/",
          "height": 282
        },
        "id": "qrg6AtFZXONJ",
        "outputId": "ef275aa4-1621-49d0-9eeb-dfce253dcb7c"
      },
      "execution_count": null,
      "outputs": [
        {
          "output_type": "execute_result",
          "data": {
            "text/plain": [
              "[<matplotlib.lines.Line2D at 0x7f941bc6efd0>]"
            ]
          },
          "metadata": {},
          "execution_count": 127
        },
        {
          "output_type": "display_data",
          "data": {
            "text/plain": [
              "<Figure size 432x288 with 1 Axes>"
            ],
            "image/png": "[encoded data removed]"
          },
          "metadata": {
            "needs_background": "light"
          }
        }
      ]
    },
    {
      "cell_type": "code",
      "source": [
        "pip install pandas_ta\n"
      ],
      "metadata": {
        "colab": {
          "base_uri": "https://localhost:8080/"
        },
        "id": "dA59otjNZODu",
        "outputId": "f0bd65cb-97c9-4aac-b94e-8f89ed7f4bbb"
      },
      "execution_count": null,
      "outputs": [
        {
          "output_type": "stream",
          "name": "stdout",
          "text": [
            "Looking in indexes: https://pypi.org/simple, https://us-python.pkg.dev/colab-wheels/public/simple/\n",
            "Requirement already satisfied: pandas_ta in /usr/local/lib/python3.7/dist-packages (0.3.14b0)\n",
            "Requirement already satisfied: pandas in /usr/local/lib/python3.7/dist-packages (from pandas_ta) (1.3.5)\n",
            "Requirement already satisfied: numpy>=1.17.3 in /usr/local/lib/python3.7/dist-packages (from pandas->pandas_ta) (1.21.6)\n",
            "Requirement already satisfied: pytz>=2017.3 in /usr/local/lib/python3.7/dist-packages (from pandas->pandas_ta) (2022.1)\n",
            "Requirement already satisfied: python-dateutil>=2.7.3 in /usr/local/lib/python3.7/dist-packages (from pandas->pandas_ta) (2.8.2)\n",
            "Requirement already satisfied: six>=1.5 in /usr/local/lib/python3.7/dist-packages (from python-dateutil>=2.7.3->pandas->pandas_ta) (1.15.0)\n"
          ]
        }
      ]
    },
    {
      "cell_type": "code",
      "source": [
        "import pandas_ta\n",
        "df0.ta.ema(close='Adj Close', length=10, append=True)\n",
        "df0= df0.iloc[10:]\n",
        "print(df0.head())"
      ],
      "metadata": {
        "colab": {
          "base_uri": "https://localhost:8080/"
        },
        "id": "AV6g0BoXZ2Zz",
        "outputId": "01d50dd9-8c81-40fb-bb7a-b8179d62c6a5"
      },
      "execution_count": null,
      "outputs": [
        {
          "output_type": "stream",
          "name": "stdout",
          "text": [
            "            Adj Close     EMA_10\n",
            "Date                            \n",
            "2010-07-14  19.840000  19.221454\n",
            "2010-07-15  19.889999  19.343008\n",
            "2010-07-16  20.639999  19.578824\n",
            "2010-07-19  21.910000  20.002675\n",
            "2010-07-20  20.299999  20.056734\n"
          ]
        }
      ]
    },
    {
      "cell_type": "code",
      "source": [
        "plt.plot(df0[['EMA_10']])\n",
        "plt.plot(df0[['Adj Close']])"
      ],
      "metadata": {
        "colab": {
          "base_uri": "https://localhost:8080/",
          "height": 282
        },
        "id": "FlbXe1i9aqGq",
        "outputId": "06ba3e13-696f-44df-b335-60dd52e1790b"
      },
      "execution_count": null,
      "outputs": [
        {
          "output_type": "execute_result",
          "data": {
            "text/plain": [
              "[<matplotlib.lines.Line2D at 0x7f941bbcecd0>]"
            ]
          },
          "metadata": {},
          "execution_count": 130
        },
        {
          "output_type": "display_data",
          "data": {
            "text/plain": [
              "<Figure size 432x288 with 1 Axes>"
            ],
            "image/png": "[encoded data removed]"
          },
          "metadata": {
            "needs_background": "light"
          }
        }
      ]
    },
    {
      "cell_type": "code",
      "source": [
        "X_train, X_test, y_train, y_test = train_test_split(df0[['Adj Close']], df0[['EMA_10']], test_size=.2)"
      ],
      "metadata": {
        "id": "R2pF18G0Hruz"
      },
      "execution_count": null,
      "outputs": []
    },
    {
      "cell_type": "code",
      "source": [
        "print(X_test.describe())\n",
        "print(X_train.describe())"
      ],
      "metadata": {
        "colab": {
          "base_uri": "https://localhost:8080/"
        },
        "id": "TLpr9iMWLMOG",
        "outputId": "b10babc6-b98c-4c20-a551-f0af3b4b1257"
      },
      "execution_count": null,
      "outputs": [
        {
          "output_type": "stream",
          "name": "stdout",
          "text": [
            "        Adj Close\n",
            "count  482.000000\n",
            "mean   189.591453\n",
            "std    116.344771\n",
            "min     17.900000\n",
            "25%     35.034999\n",
            "50%    215.449997\n",
            "75%    265.589996\n",
            "max    558.020020\n",
            "         Adj Close\n",
            "count  1924.000000\n",
            "mean    186.474688\n",
            "std     119.544165\n",
            "min      17.600000\n",
            "25%      34.425000\n",
            "50%     212.960007\n",
            "75%     267.677513\n",
            "max     780.000000\n"
          ]
        }
      ]
    },
    {
      "cell_type": "code",
      "source": [
        "from sklearn.linear_model import LinearRegression\n",
        "model = LinearRegression()\n",
        "model.fit(X_train, y_train)\n",
        "y_pred = model.predict(X_test)\n",
        "#print(y_pred)\n",
        "plt.plot(X_test,y_pred)\n",
        "plt.scatter(X_test,y_test,color=\"orange\",edgecolors=\"black\")\n",
        "plt.xlabel(\"Adj Closing values\")\n",
        "plt.ylabel(\"EMA_10 of Adj Close\")"
      ],
      "metadata": {
        "id": "Im8jFf1LLef6",
        "colab": {
          "base_uri": "https://localhost:8080/",
          "height": 296
        },
        "outputId": "b4b88312-218c-47be-f40f-2f4e91842501"
      },
      "execution_count": null,
      "outputs": [
        {
          "output_type": "execute_result",
          "data": {
            "text/plain": [
              "Text(0, 0.5, 'EMA_10 of Adj Close')"
            ]
          },
          "metadata": {},
          "execution_count": 132
        },
        {
          "output_type": "display_data",
          "data": {
            "text/plain": [
              "<Figure size 432x288 with 1 Axes>"
            ],
            "image/png": "[encoded data removed]"
          },
          "metadata": {
            "needs_background": "light"
          }
        }
      ]
    },
    {
      "cell_type": "code",
      "source": [
        "from sklearn.metrics import mean_squared_error, r2_score, mean_absolute_error\n",
        "\n",
        "print(\"Model Coefficients:\", model.coef_)\n",
        "print(\"Mean Absolute Error:\", mean_absolute_error(y_test, y_pred))\n",
        "print(\"Coefficient of Determination:\", r2_score(y_test, y_pred))\n",
        "print(\"Mean Squared Error:\", mean_squared_error(y_test, y_pred))\n",
        "\n"
      ],
      "metadata": {
        "colab": {
          "base_uri": "https://localhost:8080/"
        },
        "id": "GORyuMU5MAOD",
        "outputId": "2fd8c5b8-6218-476d-94f8-e23a348a00cb"
      },
      "execution_count": null,
      "outputs": [
        {
          "output_type": "stream",
          "name": "stdout",
          "text": [
            "Model Coefficients: [[0.98021177]]\n",
            "Mean Absolute Error: 6.120271524523106\n",
            "Coefficient of Determination: 0.994152612729081\n",
            "Mean Squared Error: 78.46584345007726\n"
          ]
        }
      ]
    },
    {
      "cell_type": "markdown",
      "source": [
        "# Model 3"
      ],
      "metadata": {
        "id": "GeM2qoOB_f_h"
      }
    },
    {
      "cell_type": "code",
      "source": [
        "df.set_index(pd.DatetimeIndex(df['Date']), inplace=True)\n",
        "df2 = df[['Open']]\n",
        "print(df2)\n",
        "# df2.set_index()\n"
      ],
      "metadata": {
        "colab": {
          "base_uri": "https://localhost:8080/"
        },
        "id": "AVAwcLdi_eYZ",
        "outputId": "5f8a0d3e-37ca-4de9-92ad-0edbd61216b3"
      },
      "execution_count": null,
      "outputs": [
        {
          "output_type": "stream",
          "name": "stdout",
          "text": [
            "                  Open\n",
            "Date                  \n",
            "2010-06-29   19.000000\n",
            "2010-06-30   25.790001\n",
            "2010-07-01   25.000000\n",
            "2010-07-02   23.000000\n",
            "2010-07-06   20.000000\n",
            "...                ...\n",
            "2020-01-28  568.489990\n",
            "2020-01-29  575.690002\n",
            "2020-01-30  632.419983\n",
            "2020-01-31  640.000000\n",
            "2020-02-03  673.690002\n",
            "\n",
            "[2416 rows x 1 columns]\n"
          ]
        }
      ]
    },
    {
      "cell_type": "code",
      "source": [
        "plt.plot(df[['Open']])"
      ],
      "metadata": {
        "id": "02KCGCdG_07p"
      },
      "execution_count": null,
      "outputs": []
    },
    {
      "cell_type": "code",
      "source": [
        "import pandas_ta\n",
        "df2.ta.ema(close='Open', length=10, append=True)\n",
        "df2= df2.iloc[10:]\n",
        "\n",
        "print(df2.head())"
      ],
      "metadata": {
        "id": "AdTwKFMn_x6x"
      },
      "execution_count": null,
      "outputs": []
    },
    {
      "cell_type": "code",
      "source": [
        "plt.plot(df2[['Open']],color=\"red\")\n",
        "plt.plot(df2[['EMA_10']])\n",
        "# plt.scatter(df2[['EMA_10']],df2[['Open']])"
      ],
      "metadata": {
        "id": "pTTDr7tlAZiH"
      },
      "execution_count": null,
      "outputs": []
    },
    {
      "cell_type": "code",
      "source": [
        "X2_train, X2_test, y2_train, y2_test = train_test_split(df2[['Open']], df2[['EMA_10']], test_size=.2)"
      ],
      "metadata": {
        "id": "8U0fMze0AtgC"
      },
      "execution_count": null,
      "outputs": []
    },
    {
      "cell_type": "code",
      "source": [
        "print(X2_train.describe())\n",
        "print(X2_test.describe())"
      ],
      "metadata": {
        "id": "l81rEnewBEy0"
      },
      "execution_count": null,
      "outputs": []
    },
    {
      "cell_type": "code",
      "source": [
        "from sklearn.linear_model import LinearRegression\n",
        "model = LinearRegression()\n",
        "model.fit(X2_train, y2_train)\n",
        "y2_pred = model.predict(X2_test)\n",
        "#print(y_pred)\n",
        "plt.plot(X2_test,y2_pred)\n",
        "plt.scatter(X2_test,y2_test,color=\"orange\",edgecolors=\"black\")\n",
        "plt.xlabel(\"Opening Values of the Stock\")\n",
        "plt.ylabel(\"EMA_10 of Openening values of the stock\")"
      ],
      "metadata": {
        "id": "H5w3q04kAwyf",
        "colab": {
          "base_uri": "https://localhost:8080/",
          "height": 296
        },
        "outputId": "de5e5c13-604f-43e4-e874-9c820baf3fe0"
      },
      "execution_count": null,
      "outputs": [
        {
          "output_type": "execute_result",
          "data": {
            "text/plain": [
              "Text(0, 0.5, 'EMA_10 of Openening values of the stock')"
            ]
          },
          "metadata": {},
          "execution_count": 134
        },
        {
          "output_type": "display_data",
          "data": {
            "text/plain": [
              "<Figure size 432x288 with 1 Axes>"
            ],
            "image/png": "[encoded data removed]"
          },
          "metadata": {
            "needs_background": "light"
          }
        }
      ]
    },
    {
      "cell_type": "code",
      "source": [
        "from sklearn.metrics import mean_squared_error, r2_score, mean_absolute_error\n",
        "\n",
        "print(\"Model Coefficients:\", model.coef_)\n",
        "print(\"Mean Absolute Error:\", mean_absolute_error(y2_test, y2_pred))\n",
        "print(\"Coefficient of Determination:\", r2_score(y2_test, y2_pred))\n",
        "print(\"Mean Squared Error:\", mean_squared_error(y2_test, y2_pred))\n"
      ],
      "metadata": {
        "id": "JyYwZsZDBpyJ",
        "colab": {
          "base_uri": "https://localhost:8080/"
        },
        "outputId": "7c52519a-0ec9-441f-9a51-ee1569546a03"
      },
      "execution_count": null,
      "outputs": [
        {
          "output_type": "stream",
          "name": "stdout",
          "text": [
            "Model Coefficients: [[0.98168366]]\n",
            "Mean Absolute Error: 6.305899766014425\n",
            "Coefficient of Determination: 0.9935294892530083\n",
            "Mean Squared Error: 86.67421958959478\n"
          ]
        }
      ]
    },
    {
      "cell_type": "markdown",
      "source": [
        "#Model 4"
      ],
      "metadata": {
        "id": "OTznNXF8KUAH"
      }
    },
    {
      "cell_type": "code",
      "source": [
        "df.set_index(pd.DatetimeIndex(df['Date']), inplace=True)\n",
        "df3 = df[['Low']]\n",
        "print(df3)\n",
        "# df2.set_index()"
      ],
      "metadata": {
        "id": "1NPOh2TVdfDr"
      },
      "execution_count": null,
      "outputs": []
    },
    {
      "cell_type": "code",
      "source": [
        "plt.plot(df3[['Low']])"
      ],
      "metadata": {
        "id": "HNh0pPW_el9z"
      },
      "execution_count": null,
      "outputs": []
    },
    {
      "cell_type": "code",
      "source": [
        "import pandas_ta\n",
        "df3.ta.ema(close='Low', length=10, append=True)\n",
        "df3= df3.iloc[10:]\n",
        "\n",
        "print(df3.head())"
      ],
      "metadata": {
        "id": "JAW6exswdymR"
      },
      "execution_count": null,
      "outputs": []
    },
    {
      "cell_type": "code",
      "source": [
        "plt.plot(df3[['Low']],color=\"red\")\n",
        "plt.plot(df3[['EMA_10']])\n",
        "# plt.scatter(df2[['EMA_10']],df2[['Open']])"
      ],
      "metadata": {
        "id": "B-Z8DGnQW4il"
      },
      "execution_count": null,
      "outputs": []
    },
    {
      "cell_type": "code",
      "source": [
        "X3_train, X3_test, y3_train, y3_test = train_test_split(df3[['Low']], df3[['EMA_10']], test_size=.2)"
      ],
      "metadata": {
        "id": "BT-9GtWnW4in"
      },
      "execution_count": null,
      "outputs": []
    },
    {
      "cell_type": "code",
      "source": [
        "print(X2_train.describe())\n",
        "print(X2_test.describe())"
      ],
      "metadata": {
        "id": "kzDnGVTNW4io"
      },
      "execution_count": null,
      "outputs": []
    },
    {
      "cell_type": "code",
      "source": [
        "from sklearn.linear_model import LinearRegression\n",
        "model = LinearRegression()\n",
        "model.fit(X3_train, y3_train)\n",
        "y3_pred = model.predict(X3_test)\n",
        "#print(y_pred)\n",
        "plt.plot(X3_test,y3_pred)\n",
        "plt.scatter(X3_test,y3_test,color=\"orange\",edgecolors=\"black\")\n",
        "plt.xlabel(\"Lowest Values of the Stock\")\n",
        "plt.ylabel(\"EMA_10 of Low Values of Stock\")"
      ],
      "metadata": {
        "id": "C0Lu9kTvW4io",
        "colab": {
          "base_uri": "https://localhost:8080/",
          "height": 296
        },
        "outputId": "b65a546c-75b9-49aa-ba1a-5e1d78334485"
      },
      "execution_count": null,
      "outputs": [
        {
          "output_type": "execute_result",
          "data": {
            "text/plain": [
              "Text(0, 0.5, 'EMA_10 of Low Values of Stock')"
            ]
          },
          "metadata": {},
          "execution_count": 137
        },
        {
          "output_type": "display_data",
          "data": {
            "text/plain": [
              "<Figure size 432x288 with 1 Axes>"
            ],
            "image/png": "[encoded data removed]"
          },
          "metadata": {
            "needs_background": "light"
          }
        }
      ]
    },
    {
      "cell_type": "code",
      "source": [
        "from sklearn.metrics import mean_squared_error, r2_score, mean_absolute_error\n",
        "\n",
        "print(\"Model Coefficients:\", model.coef_)\n",
        "print(\"Mean Absolute Error:\", mean_absolute_error(y3_test, y3_pred))\n",
        "print(\"Coefficient of Determination:\", r2_score(y3_test, y3_pred))\n",
        "print(\"Mean Squared Error:\", mean_squared_error(y3_test, y3_pred))\n"
      ],
      "metadata": {
        "id": "iD45wbk2W4ip"
      },
      "execution_count": null,
      "outputs": []
    },
    {
      "cell_type": "markdown",
      "source": [
        "#Model 5"
      ],
      "metadata": {
        "id": "pwhIEiZ8KXIi"
      }
    },
    {
      "cell_type": "code",
      "source": [
        "df.set_index(pd.DatetimeIndex(df['Date']), inplace=True)\n",
        "df4 = df[['High']]\n",
        "print(df4)\n",
        "# df2.set_index()"
      ],
      "metadata": {
        "id": "qPAk-eKXKZkq"
      },
      "execution_count": null,
      "outputs": []
    },
    {
      "cell_type": "code",
      "source": [
        "plt.plot(df4[['High']])"
      ],
      "metadata": {
        "id": "N7oEM_Jze7aT"
      },
      "execution_count": null,
      "outputs": []
    },
    {
      "cell_type": "code",
      "source": [
        "import pandas_ta\n",
        "df4.ta.ema(close='High', length=10, append=True)\n",
        "df4= df4.iloc[10:]\n",
        "\n",
        "print(df4.head())"
      ],
      "metadata": {
        "id": "nuw83wdWiAfO"
      },
      "execution_count": null,
      "outputs": []
    },
    {
      "cell_type": "code",
      "source": [
        "plt.plot(df4[['High']],color=\"red\")\n",
        "plt.plot(df4[['EMA_10']])\n",
        "# plt.scatter(df2[['EMA_10']],df2[['Open']])"
      ],
      "metadata": {
        "id": "Kf0TXAgGXIlb"
      },
      "execution_count": null,
      "outputs": []
    },
    {
      "cell_type": "code",
      "source": [
        "X4_train, X4_test, y4_train, y4_test = train_test_split(df4[['High']], df4[['EMA_10']], test_size=.2)"
      ],
      "metadata": {
        "id": "cMtOaCX7XIle"
      },
      "execution_count": null,
      "outputs": []
    },
    {
      "cell_type": "code",
      "source": [
        "print(X4_train.describe())\n",
        "print(X4_test.describe())"
      ],
      "metadata": {
        "id": "k1RO0RPoXIle"
      },
      "execution_count": null,
      "outputs": []
    },
    {
      "cell_type": "code",
      "source": [
        "from sklearn.linear_model import LinearRegression\n",
        "model = LinearRegression()\n",
        "model.fit(X4_train, y4_train)\n",
        "y4_pred = model.predict(X4_test)\n",
        "#print(y_pred)\n",
        "plt.plot(X4_test,y4_pred)\n",
        "plt.scatter(X4_test,y4_test,color=\"orange\",edgecolors=\"black\")\n",
        "plt.xlabel(\"Highest Values of the Stock\")\n",
        "plt.ylabel(\"EMA_10 of High Values of Stock\")"
      ],
      "metadata": {
        "id": "umvBVzPxXIlf",
        "colab": {
          "base_uri": "https://localhost:8080/",
          "height": 297
        },
        "outputId": "6f1d056a-07bc-4504-92b8-3e40c9210cab"
      },
      "execution_count": null,
      "outputs": [
        {
          "output_type": "execute_result",
          "data": {
            "text/plain": [
              "Text(0, 0.5, 'EMA_10 of High Values of Stock')"
            ]
          },
          "metadata": {},
          "execution_count": 138
        },
        {
          "output_type": "display_data",
          "data": {
            "text/plain": [
              "<Figure size 432x288 with 1 Axes>"
            ],
            "image/png": "[encoded data removed]"
          },
          "metadata": {
            "needs_background": "light"
          }
        }
      ]
    },
    {
      "cell_type": "code",
      "source": [
        "from sklearn.metrics import mean_squared_error, r2_score, mean_absolute_error\n",
        "\n",
        "print(\"Model Coefficients:\", model.coef_)\n",
        "print(\"Mean Absolute Error:\", mean_absolute_error(y4_test, y4_pred))\n",
        "print(\"Coefficient of Determination:\", r2_score(y4_test, y4_pred))\n",
        "print(\"Mean Squared Error:\", mean_squared_error(y4_test, y4_pred))\n"
      ],
      "metadata": {
        "id": "uusN_3iKXIlf"
      },
      "execution_count": null,
      "outputs": []
    },
    {
      "cell_type": "markdown",
      "source": [
        "#Model 6"
      ],
      "metadata": {
        "id": "1rkZGFNlKaPw"
      }
    },
    {
      "cell_type": "code",
      "source": [
        "df.set_index(pd.DatetimeIndex(df['Date']), inplace=True)\n",
        "df5 = df[['Volume']]\n",
        "print(df5)\n",
        "# df2.set_index()"
      ],
      "metadata": {
        "id": "0qxATT_YKkx7"
      },
      "execution_count": null,
      "outputs": []
    },
    {
      "cell_type": "code",
      "source": [
        "import pandas_ta\n",
        "df5.ta.ema(close='Volume', length=10, append=True)\n",
        "df5= df5.iloc[10:]\n",
        "\n",
        "print(df5.head())"
      ],
      "metadata": {
        "id": "Ifme9w_Slozy"
      },
      "execution_count": null,
      "outputs": []
    },
    {
      "cell_type": "code",
      "source": [
        "plt.plot(df5[['Volume']],color=\"red\")\n",
        "plt.plot(df5[['EMA_10']])\n",
        "# plt.scatter(df2[['EMA_10']],df2[['Open']])"
      ],
      "metadata": {
        "id": "45EWSlHoXJWB"
      },
      "execution_count": null,
      "outputs": []
    },
    {
      "cell_type": "code",
      "source": [
        "X5_train, X5_test, y5_train, y5_test = train_test_split(df5[['Volume']], df5[['EMA_10']], test_size=.2)"
      ],
      "metadata": {
        "id": "McwPFgjUXJWC"
      },
      "execution_count": null,
      "outputs": []
    },
    {
      "cell_type": "code",
      "source": [
        "print(X5_train.describe())\n",
        "print(X5_test.describe())"
      ],
      "metadata": {
        "id": "q4l6tAHiXJWD"
      },
      "execution_count": null,
      "outputs": []
    },
    {
      "cell_type": "code",
      "source": [
        "from sklearn.linear_model import LinearRegression\n",
        "model = LinearRegression()\n",
        "model.fit(X5_train, y5_train)\n",
        "y5_pred = model.predict(X5_test)\n",
        "#print(y_pred)\n",
        "plt.plot(X5_test,y5_pred)\n",
        "plt.scatter(X5_test,y5_test,color=\"orange\",edgecolors=\"black\")\n",
        "plt.xlabel(\"Volume of Stock on that day\")\n",
        "plt.ylabel(\"EMA_10 of Volumes of Stock\")"
      ],
      "metadata": {
        "id": "geLd2aETXJWD",
        "colab": {
          "base_uri": "https://localhost:8080/"
        },
        "outputId": "9c3dc1aa-fb2a-48bd-f0b6-7f647e9f1459"
      },
      "execution_count": null,
      "outputs": [
        {
          "output_type": "execute_result",
          "data": {
            "text/plain": [
              "Text(0, 0.5, 'EMA_10 of Volumes of Stock')"
            ]
          },
          "metadata": {},
          "execution_count": 140
        },
        {
          "output_type": "display_data",
          "data": {
            "text/plain": [
              "<Figure size 432x288 with 1 Axes>"
            ],
            "image/png": "[encoded data removed]"
          },
          "metadata": {
            "needs_background": "light"
          }
        }
      ]
    },
    {
      "cell_type": "code",
      "source": [
        "from sklearn.metrics import mean_squared_error, r2_score, mean_absolute_error\n",
        "\n",
        "print(\"Model Coefficients:\", model.coef_)\n",
        "print(\"Mean Absolute Error:\", mean_absolute_error(y5_test, y5_pred))\n",
        "print(\"Coefficient of Determination:\", r2_score(y5_test, y5_pred))\n",
        "print(\"Mean Squared Error:\", mean_squared_error(y5_test, y5_pred))\n"
      ],
      "metadata": {
        "id": "YVor6xK3XJWE"
      },
      "execution_count": null,
      "outputs": []
    },
    {
      "cell_type": "markdown",
      "source": [
        "#Model 8"
      ],
      "metadata": {
        "id": "HDw0f7U8K5zb"
      }
    },
    {
      "cell_type": "code",
      "source": [],
      "metadata": {
        "id": "Dl43usIKK-dy"
      },
      "execution_count": null,
      "outputs": []
    },
    {
      "cell_type": "code",
      "source": [
        "plt.plot(df2[['Open']],color=\"red\")\n",
        "plt.plot(df2[['EMA_10']])\n",
        "# plt.scatter(df2[['EMA_10']],df2[['Open']])"
      ],
      "metadata": {
        "id": "RnBICxJvXK6I"
      },
      "execution_count": null,
      "outputs": []
    },
    {
      "cell_type": "code",
      "source": [
        "X2_train, X2_test, y2_train, y2_test = train_test_split(df2[['Open']], df2[['EMA_10']], test_size=.2)"
      ],
      "metadata": {
        "id": "qRENuZz8XK6J"
      },
      "execution_count": null,
      "outputs": []
    },
    {
      "cell_type": "code",
      "source": [
        "print(X2_train.describe())\n",
        "print(X2_test.describe())"
      ],
      "metadata": {
        "id": "jH28C-B-XK6J"
      },
      "execution_count": null,
      "outputs": []
    },
    {
      "cell_type": "code",
      "source": [
        "from sklearn.linear_model import LinearRegression\n",
        "model = LinearRegression()\n",
        "model.fit(X2_train, y2_train)\n",
        "y2_pred = model.predict(X2_test)\n",
        "#print(y_pred)\n",
        "plt.plot(X2_test,y2_pred)\n",
        "plt.scatter(X2_test,y2_test,color=\"orange\",edgecolors=\"black\")"
      ],
      "metadata": {
        "id": "NJwcc3_RXK6K"
      },
      "execution_count": null,
      "outputs": []
    },
    {
      "cell_type": "code",
      "source": [
        "from sklearn.metrics import mean_squared_error, r2_score, mean_absolute_error\n",
        "\n",
        "print(\"Model Coefficients:\", model.coef_)\n",
        "print(\"Mean Absolute Error:\", mean_absolute_error(y2_test, y2_pred))\n",
        "print(\"Coefficient of Determination:\", r2_score(y2_test, y2_pred))\n",
        "print(\"Mean Squared Error:\", mean_squared_error(y2_test, y2_pred))\n"
      ],
      "metadata": {
        "id": "CJm0anRVXK6K"
      },
      "execution_count": null,
      "outputs": []
    },
    {
      "cell_type": "markdown",
      "source": [
        "#Model 10"
      ],
      "metadata": {
        "id": "icolPa7ULGnX"
      }
    },
    {
      "cell_type": "code",
      "source": [],
      "metadata": {
        "id": "TDn5Q70SLIjG"
      },
      "execution_count": null,
      "outputs": []
    },
    {
      "cell_type": "code",
      "source": [
        "plt.plot(df[['Open','Close']],color=\"red\")\n",
        "plt.plot(df[['Volume']])\n",
        "# plt.scatter(df2[['EMA_10']],df2[['Open']])"
      ],
      "metadata": {
        "id": "AdxdJ1AAXMTl",
        "colab": {
          "base_uri": "https://localhost:8080/",
          "height": 293
        },
        "outputId": "b61a9d01-ee09-4af3-ddcd-df3174e25e18"
      },
      "execution_count": null,
      "outputs": [
        {
          "output_type": "execute_result",
          "data": {
            "text/plain": [
              "[<matplotlib.lines.Line2D at 0x7f941bd48a10>]"
            ]
          },
          "metadata": {},
          "execution_count": 119
        },
        {
          "output_type": "display_data",
          "data": {
            "text/plain": [
              "<Figure size 432x288 with 1 Axes>"
            ],
            "image/png": "[encoded data removed]"
          },
          "metadata": {
            "needs_background": "light"
          }
        }
      ]
    },
    {
      "cell_type": "code",
      "source": [
        "X21_train, X21_test, y21_train, y21_test = train_test_split(df[['Open','Close']], df[['Volume']], test_size=.2)"
      ],
      "metadata": {
        "id": "fCl5h7c4XMTm"
      },
      "execution_count": null,
      "outputs": []
    },
    {
      "cell_type": "code",
      "source": [
        "print(X21_train.describe())\n",
        "print(X21_test.describe())"
      ],
      "metadata": {
        "id": "MY1Vje9UXMTm",
        "colab": {
          "base_uri": "https://localhost:8080/"
        },
        "outputId": "fbdd5f0a-9ba2-4c27-b008-2ae3a237dca6"
      },
      "execution_count": null,
      "outputs": [
        {
          "output_type": "stream",
          "name": "stdout",
          "text": [
            "              Open        Close\n",
            "count  1932.000000  1932.000000\n",
            "mean    186.916486   187.131812\n",
            "std     119.543074   120.049747\n",
            "min      16.139999    16.110001\n",
            "25%      34.490000    34.427499\n",
            "50%     212.805001   212.324997\n",
            "75%     267.417511   267.485001\n",
            "max     673.690002   780.000000\n",
            "             Open       Close\n",
            "count  484.000000  484.000000\n",
            "mean   183.695124  183.497025\n",
            "std    115.564775  115.492170\n",
            "min     16.400000   15.800000\n",
            "25%     33.917499   33.975001\n",
            "50%    213.565002  215.089996\n",
            "75%    262.174996  262.884995\n",
            "max    530.250000  547.200012\n"
          ]
        }
      ]
    },
    {
      "cell_type": "code",
      "source": [
        "from sklearn.linear_model import LinearRegression\n",
        "model = LinearRegression()\n",
        "model.fit(X21_train, y21_train)\n",
        "y21_pred = model.predict(X21_test)\n",
        "#print(y_pred)\n",
        "plt.plot(X21_test,y21_pred)\n",
        "plt.scatter(X21_test,y21_test,color=\"orange\",edgecolors=\"black\")"
      ],
      "metadata": {
        "id": "hHaR00nlXMTn",
        "colab": {
          "base_uri": "https://localhost:8080/",
          "height": 604
        },
        "outputId": "30944613-6e3d-453d-bcf2-2a7557c47d00"
      },
      "execution_count": null,
      "outputs": [
        {
          "output_type": "error",
          "ename": "ValueError",
          "evalue": "ignored",
          "traceback": [
            "\u001b[0;31m---------------------------------------------------------------------------\u001b[0m",
            "\u001b[0;31mValueError\u001b[0m                                Traceback (most recent call last)",
            "\u001b[0;32m<ipython-input-122-7b0cf78f3897>\u001b[0m in \u001b[0;36m<module>\u001b[0;34m()\u001b[0m\n\u001b[1;32m      5\u001b[0m \u001b[0;31m#print(y_pred)\u001b[0m\u001b[0;34m\u001b[0m\u001b[0;34m\u001b[0m\u001b[0;34m\u001b[0m\u001b[0m\n\u001b[1;32m      6\u001b[0m \u001b[0mplt\u001b[0m\u001b[0;34m.\u001b[0m\u001b[0mplot\u001b[0m\u001b[0;34m(\u001b[0m\u001b[0mX21_test\u001b[0m\u001b[0;34m,\u001b[0m\u001b[0my21_pred\u001b[0m\u001b[0;34m)\u001b[0m\u001b[0;34m\u001b[0m\u001b[0;34m\u001b[0m\u001b[0m\n\u001b[0;32m----> 7\u001b[0;31m \u001b[0mplt\u001b[0m\u001b[0;34m.\u001b[0m\u001b[0mscatter\u001b[0m\u001b[0;34m(\u001b[0m\u001b[0mX21_test\u001b[0m\u001b[0;34m,\u001b[0m\u001b[0my21_test\u001b[0m\u001b[0;34m,\u001b[0m\u001b[0mcolor\u001b[0m\u001b[0;34m=\u001b[0m\u001b[0;34m\"orange\"\u001b[0m\u001b[0;34m,\u001b[0m\u001b[0medgecolors\u001b[0m\u001b[0;34m=\u001b[0m\u001b[0;34m\"black\"\u001b[0m\u001b[0;34m)\u001b[0m\u001b[0;34m\u001b[0m\u001b[0;34m\u001b[0m\u001b[0m\n\u001b[0m",
            "\u001b[0;32m/usr/local/lib/python3.7/dist-packages/matplotlib/pyplot.py\u001b[0m in \u001b[0;36mscatter\u001b[0;34m(x, y, s, c, marker, cmap, norm, vmin, vmax, alpha, linewidths, verts, edgecolors, plotnonfinite, data, **kwargs)\u001b[0m\n\u001b[1;32m   2814\u001b[0m         \u001b[0mverts\u001b[0m\u001b[0;34m=\u001b[0m\u001b[0mverts\u001b[0m\u001b[0;34m,\u001b[0m \u001b[0medgecolors\u001b[0m\u001b[0;34m=\u001b[0m\u001b[0medgecolors\u001b[0m\u001b[0;34m,\u001b[0m\u001b[0;34m\u001b[0m\u001b[0;34m\u001b[0m\u001b[0m\n\u001b[1;32m   2815\u001b[0m         plotnonfinite=plotnonfinite, **({\"data\": data} if data is not\n\u001b[0;32m-> 2816\u001b[0;31m         None else {}), **kwargs)\n\u001b[0m\u001b[1;32m   2817\u001b[0m     \u001b[0msci\u001b[0m\u001b[0;34m(\u001b[0m\u001b[0m__ret\u001b[0m\u001b[0;34m)\u001b[0m\u001b[0;34m\u001b[0m\u001b[0;34m\u001b[0m\u001b[0m\n\u001b[1;32m   2818\u001b[0m     \u001b[0;32mreturn\u001b[0m \u001b[0m__ret\u001b[0m\u001b[0;34m\u001b[0m\u001b[0;34m\u001b[0m\u001b[0m\n",
            "\u001b[0;32m/usr/local/lib/python3.7/dist-packages/matplotlib/__init__.py\u001b[0m in \u001b[0;36minner\u001b[0;34m(ax, data, *args, **kwargs)\u001b[0m\n\u001b[1;32m   1563\u001b[0m     \u001b[0;32mdef\u001b[0m \u001b[0minner\u001b[0m\u001b[0;34m(\u001b[0m\u001b[0max\u001b[0m\u001b[0;34m,\u001b[0m \u001b[0;34m*\u001b[0m\u001b[0margs\u001b[0m\u001b[0;34m,\u001b[0m \u001b[0mdata\u001b[0m\u001b[0;34m=\u001b[0m\u001b[0;32mNone\u001b[0m\u001b[0;34m,\u001b[0m \u001b[0;34m**\u001b[0m\u001b[0mkwargs\u001b[0m\u001b[0;34m)\u001b[0m\u001b[0;34m:\u001b[0m\u001b[0;34m\u001b[0m\u001b[0;34m\u001b[0m\u001b[0m\n\u001b[1;32m   1564\u001b[0m         \u001b[0;32mif\u001b[0m \u001b[0mdata\u001b[0m \u001b[0;32mis\u001b[0m \u001b[0;32mNone\u001b[0m\u001b[0;34m:\u001b[0m\u001b[0;34m\u001b[0m\u001b[0;34m\u001b[0m\u001b[0m\n\u001b[0;32m-> 1565\u001b[0;31m             \u001b[0;32mreturn\u001b[0m \u001b[0mfunc\u001b[0m\u001b[0;34m(\u001b[0m\u001b[0max\u001b[0m\u001b[0;34m,\u001b[0m \u001b[0;34m*\u001b[0m\u001b[0mmap\u001b[0m\u001b[0;34m(\u001b[0m\u001b[0msanitize_sequence\u001b[0m\u001b[0;34m,\u001b[0m \u001b[0margs\u001b[0m\u001b[0;34m)\u001b[0m\u001b[0;34m,\u001b[0m \u001b[0;34m**\u001b[0m\u001b[0mkwargs\u001b[0m\u001b[0;34m)\u001b[0m\u001b[0;34m\u001b[0m\u001b[0;34m\u001b[0m\u001b[0m\n\u001b[0m\u001b[1;32m   1566\u001b[0m \u001b[0;34m\u001b[0m\u001b[0m\n\u001b[1;32m   1567\u001b[0m         \u001b[0mbound\u001b[0m \u001b[0;34m=\u001b[0m \u001b[0mnew_sig\u001b[0m\u001b[0;34m.\u001b[0m\u001b[0mbind\u001b[0m\u001b[0;34m(\u001b[0m\u001b[0max\u001b[0m\u001b[0;34m,\u001b[0m \u001b[0;34m*\u001b[0m\u001b[0margs\u001b[0m\u001b[0;34m,\u001b[0m \u001b[0;34m**\u001b[0m\u001b[0mkwargs\u001b[0m\u001b[0;34m)\u001b[0m\u001b[0;34m\u001b[0m\u001b[0;34m\u001b[0m\u001b[0m\n",
            "\u001b[0;32m/usr/local/lib/python3.7/dist-packages/matplotlib/cbook/deprecation.py\u001b[0m in \u001b[0;36mwrapper\u001b[0;34m(*args, **kwargs)\u001b[0m\n\u001b[1;32m    356\u001b[0m                 \u001b[0;34mf\"%(removal)s.  If any parameter follows {name!r}, they \"\u001b[0m\u001b[0;34m\u001b[0m\u001b[0;34m\u001b[0m\u001b[0m\n\u001b[1;32m    357\u001b[0m                 f\"should be pass as keyword, not positionally.\")\n\u001b[0;32m--> 358\u001b[0;31m         \u001b[0;32mreturn\u001b[0m \u001b[0mfunc\u001b[0m\u001b[0;34m(\u001b[0m\u001b[0;34m*\u001b[0m\u001b[0margs\u001b[0m\u001b[0;34m,\u001b[0m \u001b[0;34m**\u001b[0m\u001b[0mkwargs\u001b[0m\u001b[0;34m)\u001b[0m\u001b[0;34m\u001b[0m\u001b[0;34m\u001b[0m\u001b[0m\n\u001b[0m\u001b[1;32m    359\u001b[0m \u001b[0;34m\u001b[0m\u001b[0m\n\u001b[1;32m    360\u001b[0m     \u001b[0;32mreturn\u001b[0m \u001b[0mwrapper\u001b[0m\u001b[0;34m\u001b[0m\u001b[0;34m\u001b[0m\u001b[0m\n",
            "\u001b[0;32m/usr/local/lib/python3.7/dist-packages/matplotlib/axes/_axes.py\u001b[0m in \u001b[0;36mscatter\u001b[0;34m(self, x, y, s, c, marker, cmap, norm, vmin, vmax, alpha, linewidths, verts, edgecolors, plotnonfinite, **kwargs)\u001b[0m\n\u001b[1;32m   4389\u001b[0m         \u001b[0my\u001b[0m \u001b[0;34m=\u001b[0m \u001b[0mnp\u001b[0m\u001b[0;34m.\u001b[0m\u001b[0mma\u001b[0m\u001b[0;34m.\u001b[0m\u001b[0mravel\u001b[0m\u001b[0;34m(\u001b[0m\u001b[0my\u001b[0m\u001b[0;34m)\u001b[0m\u001b[0;34m\u001b[0m\u001b[0;34m\u001b[0m\u001b[0m\n\u001b[1;32m   4390\u001b[0m         \u001b[0;32mif\u001b[0m \u001b[0mx\u001b[0m\u001b[0;34m.\u001b[0m\u001b[0msize\u001b[0m \u001b[0;34m!=\u001b[0m \u001b[0my\u001b[0m\u001b[0;34m.\u001b[0m\u001b[0msize\u001b[0m\u001b[0;34m:\u001b[0m\u001b[0;34m\u001b[0m\u001b[0;34m\u001b[0m\u001b[0m\n\u001b[0;32m-> 4391\u001b[0;31m             \u001b[0;32mraise\u001b[0m \u001b[0mValueError\u001b[0m\u001b[0;34m(\u001b[0m\u001b[0;34m\"x and y must be the same size\"\u001b[0m\u001b[0;34m)\u001b[0m\u001b[0;34m\u001b[0m\u001b[0;34m\u001b[0m\u001b[0m\n\u001b[0m\u001b[1;32m   4392\u001b[0m \u001b[0;34m\u001b[0m\u001b[0m\n\u001b[1;32m   4393\u001b[0m         \u001b[0;32mif\u001b[0m \u001b[0ms\u001b[0m \u001b[0;32mis\u001b[0m \u001b[0;32mNone\u001b[0m\u001b[0;34m:\u001b[0m\u001b[0;34m\u001b[0m\u001b[0;34m\u001b[0m\u001b[0m\n",
            "\u001b[0;31mValueError\u001b[0m: x and y must be the same size"
          ]
        },
        {
          "output_type": "display_data",
          "data": {
            "text/plain": [
              "<Figure size 432x288 with 1 Axes>"
            ],
            "image/png": "[encoded data removed]"
          },
          "metadata": {
            "needs_background": "light"
          }
        }
      ]
    },
    {
      "cell_type": "code",
      "source": [
        "from sklearn.metrics import mean_squared_error, r2_score, mean_absolute_error\n",
        "\n",
        "print(\"Model Coefficients:\", model.coef_)\n",
        "print(\"Mean Absolute Error:\", mean_absolute_error(y2_test, y2_pred))\n",
        "print(\"Coefficient of Determination:\", r2_score(y2_test, y2_pred))\n",
        "print(\"Mean Squared Error:\", mean_squared_error(y2_test, y2_pred))\n"
      ],
      "metadata": {
        "id": "OeUuGfsHXMTn"
      },
      "execution_count": null,
      "outputs": []
    },
    {
      "cell_type": "markdown",
      "source": [
        "#multi\n"
      ],
      "metadata": {
        "id": "x_KX5M-IntqB"
      }
    },
    {
      "cell_type": "code",
      "source": [],
      "metadata": {
        "id": "jcv5nquonvih"
      },
      "execution_count": null,
      "outputs": []
    }
  ]
}