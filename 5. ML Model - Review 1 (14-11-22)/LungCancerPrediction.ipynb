{
  "nbformat": 4,
  "nbformat_minor": 0,
  "metadata": {
    "colab": {
      "provenance": []
    },
    "kernelspec": {
      "name": "python3",
      "display_name": "Python 3"
    },
    "language_info": {
      "name": "python"
    }
  },
  "cells": [
    {
      "cell_type": "markdown",
      "source": [
        "# **LUNG CANCER PREDICTION**"
      ],
      "metadata": {
        "id": "bECm3pLM5fJk"
      }
    },
    {
      "cell_type": "markdown",
      "source": [
        "ALFY ALEX\n",
        "\n",
        "AM.EN.U4AIE21011"
      ],
      "metadata": {
        "id": "vYuqkHc_5jjP"
      }
    },
    {
      "cell_type": "code",
      "source": [
        "import pandas as pd \n",
        "import numpy as np\n",
        "import matplotlib.pyplot as plt\n",
        "import seaborn as sns\n",
        "from sklearn.preprocessing import LabelEncoder\n",
        "from sklearn.model_selection import train_test_split\n",
        "from sklearn.ensemble import RandomForestRegressor\n",
        "from sklearn.linear_model import LogisticRegression\n",
        "from sklearn.model_selection import cross_val_score\n",
        "from sklearn.metrics import accuracy_score"
      ],
      "metadata": {
        "id": "wEEFfrLb3VCd"
      },
      "execution_count": 17,
      "outputs": []
    },
    {
      "cell_type": "code",
      "source": [
        "url=\"https://raw.githubusercontent.com/ADITHYASNAIR2021/Reva-Hacks---Team-Codaly/main/Dataset/Lung%20Cancer.csv\"\n",
        "data = pd.read_csv(url)\n",
        "data.drop(columns = 'Patient Id', axis = 1, inplace= True)\n",
        "data.head()"
      ],
      "metadata": {
        "colab": {
          "base_uri": "https://localhost:8080/",
          "height": 299
        },
        "id": "wLirI63732UP",
        "outputId": "70fdaa13-bcb7-4657-8705-8bcb2d24165e"
      },
      "execution_count": 18,
      "outputs": [
        {
          "output_type": "execute_result",
          "data": {
            "text/plain": [
              "   Age  Gender  AirPollution  Alcoholuse  DustAllergy  OccuPationalHazards  \\\n",
              "0   33       1             2           4            5                    4   \n",
              "1   17       1             3           1            5                    3   \n",
              "2   35       1             4           5            6                    5   \n",
              "3   37       1             7           7            7                    7   \n",
              "4   46       1             6           8            7                    7   \n",
              "\n",
              "   GeneticRisk  chronicLungDisease  BalancedDiet  Obesity  ...  Fatigue  \\\n",
              "0            3                   2             2        4  ...        3   \n",
              "1            4                   2             2        2  ...        1   \n",
              "2            5                   4             6        7  ...        8   \n",
              "3            6                   7             7        7  ...        4   \n",
              "4            7                   6             7        7  ...        3   \n",
              "\n",
              "   WeightLoss  ShortnessofBreath  Wheezing  SwallowingDifficulty  \\\n",
              "0           4                  2         2                     3   \n",
              "1           3                  7         8                     6   \n",
              "2           7                  9         2                     1   \n",
              "3           2                  3         1                     4   \n",
              "4           2                  4         1                     4   \n",
              "\n",
              "   ClubbingofFingerNails  FrequentCold  DryCough  Snoring  Level  \n",
              "0                      1             2         3        4    Low  \n",
              "1                      2             1         7        2   High  \n",
              "2                      4             6         7        2   High  \n",
              "3                      5             6         7        5   High  \n",
              "4                      2             4         2        3   High  \n",
              "\n",
              "[5 rows x 24 columns]"
            ],
            "text/html": [
              "\n",
              "  <div id=\"df-12e17d3f-b638-44ec-8565-42afe1f3e83c\">\n",
              "    <div class=\"colab-df-container\">\n",
              "      <div>\n",
              "<style scoped>\n",
              "    .dataframe tbody tr th:only-of-type {\n",
              "        vertical-align: middle;\n",
              "    }\n",
              "\n",
              "    .dataframe tbody tr th {\n",
              "        vertical-align: top;\n",
              "    }\n",
              "\n",
              "    .dataframe thead th {\n",
              "        text-align: right;\n",
              "    }\n",
              "</style>\n",
              "<table border=\"1\" class=\"dataframe\">\n",
              "  <thead>\n",
              "    <tr style=\"text-align: right;\">\n",
              "      <th></th>\n",
              "      <th>Age</th>\n",
              "      <th>Gender</th>\n",
              "      <th>AirPollution</th>\n",
              "      <th>Alcoholuse</th>\n",
              "      <th>DustAllergy</th>\n",
              "      <th>OccuPationalHazards</th>\n",
              "      <th>GeneticRisk</th>\n",
              "      <th>chronicLungDisease</th>\n",
              "      <th>BalancedDiet</th>\n",
              "      <th>Obesity</th>\n",
              "      <th>...</th>\n",
              "      <th>Fatigue</th>\n",
              "      <th>WeightLoss</th>\n",
              "      <th>ShortnessofBreath</th>\n",
              "      <th>Wheezing</th>\n",
              "      <th>SwallowingDifficulty</th>\n",
              "      <th>ClubbingofFingerNails</th>\n",
              "      <th>FrequentCold</th>\n",
              "      <th>DryCough</th>\n",
              "      <th>Snoring</th>\n",
              "      <th>Level</th>\n",
              "    </tr>\n",
              "  </thead>\n",
              "  <tbody>\n",
              "    <tr>\n",
              "      <th>0</th>\n",
              "      <td>33</td>\n",
              "      <td>1</td>\n",
              "      <td>2</td>\n",
              "      <td>4</td>\n",
              "      <td>5</td>\n",
              "      <td>4</td>\n",
              "      <td>3</td>\n",
              "      <td>2</td>\n",
              "      <td>2</td>\n",
              "      <td>4</td>\n",
              "      <td>...</td>\n",
              "      <td>3</td>\n",
              "      <td>4</td>\n",
              "      <td>2</td>\n",
              "      <td>2</td>\n",
              "      <td>3</td>\n",
              "      <td>1</td>\n",
              "      <td>2</td>\n",
              "      <td>3</td>\n",
              "      <td>4</td>\n",
              "      <td>Low</td>\n",
              "    </tr>\n",
              "    <tr>\n",
              "      <th>1</th>\n",
              "      <td>17</td>\n",
              "      <td>1</td>\n",
              "      <td>3</td>\n",
              "      <td>1</td>\n",
              "      <td>5</td>\n",
              "      <td>3</td>\n",
              "      <td>4</td>\n",
              "      <td>2</td>\n",
              "      <td>2</td>\n",
              "      <td>2</td>\n",
              "      <td>...</td>\n",
              "      <td>1</td>\n",
              "      <td>3</td>\n",
              "      <td>7</td>\n",
              "      <td>8</td>\n",
              "      <td>6</td>\n",
              "      <td>2</td>\n",
              "      <td>1</td>\n",
              "      <td>7</td>\n",
              "      <td>2</td>\n",
              "      <td>High</td>\n",
              "    </tr>\n",
              "    <tr>\n",
              "      <th>2</th>\n",
              "      <td>35</td>\n",
              "      <td>1</td>\n",
              "      <td>4</td>\n",
              "      <td>5</td>\n",
              "      <td>6</td>\n",
              "      <td>5</td>\n",
              "      <td>5</td>\n",
              "      <td>4</td>\n",
              "      <td>6</td>\n",
              "      <td>7</td>\n",
              "      <td>...</td>\n",
              "      <td>8</td>\n",
              "      <td>7</td>\n",
              "      <td>9</td>\n",
              "      <td>2</td>\n",
              "      <td>1</td>\n",
              "      <td>4</td>\n",
              "      <td>6</td>\n",
              "      <td>7</td>\n",
              "      <td>2</td>\n",
              "      <td>High</td>\n",
              "    </tr>\n",
              "    <tr>\n",
              "      <th>3</th>\n",
              "      <td>37</td>\n",
              "      <td>1</td>\n",
              "      <td>7</td>\n",
              "      <td>7</td>\n",
              "      <td>7</td>\n",
              "      <td>7</td>\n",
              "      <td>6</td>\n",
              "      <td>7</td>\n",
              "      <td>7</td>\n",
              "      <td>7</td>\n",
              "      <td>...</td>\n",
              "      <td>4</td>\n",
              "      <td>2</td>\n",
              "      <td>3</td>\n",
              "      <td>1</td>\n",
              "      <td>4</td>\n",
              "      <td>5</td>\n",
              "      <td>6</td>\n",
              "      <td>7</td>\n",
              "      <td>5</td>\n",
              "      <td>High</td>\n",
              "    </tr>\n",
              "    <tr>\n",
              "      <th>4</th>\n",
              "      <td>46</td>\n",
              "      <td>1</td>\n",
              "      <td>6</td>\n",
              "      <td>8</td>\n",
              "      <td>7</td>\n",
              "      <td>7</td>\n",
              "      <td>7</td>\n",
              "      <td>6</td>\n",
              "      <td>7</td>\n",
              "      <td>7</td>\n",
              "      <td>...</td>\n",
              "      <td>3</td>\n",
              "      <td>2</td>\n",
              "      <td>4</td>\n",
              "      <td>1</td>\n",
              "      <td>4</td>\n",
              "      <td>2</td>\n",
              "      <td>4</td>\n",
              "      <td>2</td>\n",
              "      <td>3</td>\n",
              "      <td>High</td>\n",
              "    </tr>\n",
              "  </tbody>\n",
              "</table>\n",
              "<p>5 rows × 24 columns</p>\n",
              "</div>\n",
              "      <button class=\"colab-df-convert\" onclick=\"convertToInteractive('df-12e17d3f-b638-44ec-8565-42afe1f3e83c')\"\n",
              "              title=\"Convert this dataframe to an interactive table.\"\n",
              "              style=\"display:none;\">\n",
              "        \n",
              "  <svg xmlns=\"http://www.w3.org/2000/svg\" height=\"24px\"viewBox=\"0 0 24 24\"\n",
              "       width=\"24px\">\n",
              "    <path d=\"M0 0h24v24H0V0z\" fill=\"none\"/>\n",
              "    <path d=\"M18.56 5.44l.94 2.06.94-2.06 2.06-.94-2.06-.94-.94-2.06-.94 2.06-2.06.94zm-11 1L8.5 8.5l.94-2.06 2.06-.94-2.06-.94L8.5 2.5l-.94 2.06-2.06.94zm10 10l.94 2.06.94-2.06 2.06-.94-2.06-.94-.94-2.06-.94 2.06-2.06.94z\"/><path d=\"M17.41 7.96l-1.37-1.37c-.4-.4-.92-.59-1.43-.59-.52 0-1.04.2-1.43.59L10.3 9.45l-7.72 7.72c-.78.78-.78 2.05 0 2.83L4 21.41c.39.39.9.59 1.41.59.51 0 1.02-.2 1.41-.59l7.78-7.78 2.81-2.81c.8-.78.8-2.07 0-2.86zM5.41 20L4 18.59l7.72-7.72 1.47 1.35L5.41 20z\"/>\n",
              "  </svg>\n",
              "      </button>\n",
              "      \n",
              "  <style>\n",
              "    .colab-df-container {\n",
              "      display:flex;\n",
              "      flex-wrap:wrap;\n",
              "      gap: 12px;\n",
              "    }\n",
              "\n",
              "    .colab-df-convert {\n",
              "      background-color: #E8F0FE;\n",
              "      border: none;\n",
              "      border-radius: 50%;\n",
              "      cursor: pointer;\n",
              "      display: none;\n",
              "      fill: #1967D2;\n",
              "      height: 32px;\n",
              "      padding: 0 0 0 0;\n",
              "      width: 32px;\n",
              "    }\n",
              "\n",
              "    .colab-df-convert:hover {\n",
              "      background-color: #E2EBFA;\n",
              "      box-shadow: 0px 1px 2px rgba(60, 64, 67, 0.3), 0px 1px 3px 1px rgba(60, 64, 67, 0.15);\n",
              "      fill: #174EA6;\n",
              "    }\n",
              "\n",
              "    [theme=dark] .colab-df-convert {\n",
              "      background-color: #3B4455;\n",
              "      fill: #D2E3FC;\n",
              "    }\n",
              "\n",
              "    [theme=dark] .colab-df-convert:hover {\n",
              "      background-color: #434B5C;\n",
              "      box-shadow: 0px 1px 3px 1px rgba(0, 0, 0, 0.15);\n",
              "      filter: drop-shadow(0px 1px 2px rgba(0, 0, 0, 0.3));\n",
              "      fill: #FFFFFF;\n",
              "    }\n",
              "  </style>\n",
              "\n",
              "      <script>\n",
              "        const buttonEl =\n",
              "          document.querySelector('#df-12e17d3f-b638-44ec-8565-42afe1f3e83c button.colab-df-convert');\n",
              "        buttonEl.style.display =\n",
              "          google.colab.kernel.accessAllowed ? 'block' : 'none';\n",
              "\n",
              "        async function convertToInteractive(key) {\n",
              "          const element = document.querySelector('#df-12e17d3f-b638-44ec-8565-42afe1f3e83c');\n",
              "          const dataTable =\n",
              "            await google.colab.kernel.invokeFunction('convertToInteractive',\n",
              "                                                     [key], {});\n",
              "          if (!dataTable) return;\n",
              "\n",
              "          const docLinkHtml = 'Like what you see? Visit the ' +\n",
              "            '<a target=\"_blank\" href=https://colab.research.google.com/notebooks/data_table.ipynb>data table notebook</a>'\n",
              "            + ' to learn more about interactive tables.';\n",
              "          element.innerHTML = '';\n",
              "          dataTable['output_type'] = 'display_data';\n",
              "          await google.colab.output.renderOutput(dataTable, element);\n",
              "          const docLink = document.createElement('div');\n",
              "          docLink.innerHTML = docLinkHtml;\n",
              "          element.appendChild(docLink);\n",
              "        }\n",
              "      </script>\n",
              "    </div>\n",
              "  </div>\n",
              "  "
            ]
          },
          "metadata": {},
          "execution_count": 18
        }
      ]
    },
    {
      "cell_type": "code",
      "source": [
        "data.describe"
      ],
      "metadata": {
        "colab": {
          "base_uri": "https://localhost:8080/"
        },
        "id": "mMshTHsN4Kcm",
        "outputId": "87ea8e24-fe9e-48ad-baab-c5abafddea82"
      },
      "execution_count": 19,
      "outputs": [
        {
          "output_type": "execute_result",
          "data": {
            "text/plain": [
              "<bound method NDFrame.describe of      Age  Gender  AirPollution  Alcoholuse  DustAllergy  OccuPationalHazards  \\\n",
              "0     33       1             2           4            5                    4   \n",
              "1     17       1             3           1            5                    3   \n",
              "2     35       1             4           5            6                    5   \n",
              "3     37       1             7           7            7                    7   \n",
              "4     46       1             6           8            7                    7   \n",
              "..   ...     ...           ...         ...          ...                  ...   \n",
              "995   44       1             6           7            7                    7   \n",
              "996   37       2             6           8            7                    7   \n",
              "997   25       2             4           5            6                    5   \n",
              "998   18       2             6           8            7                    7   \n",
              "999   47       1             6           5            6                    5   \n",
              "\n",
              "     GeneticRisk  chronicLungDisease  BalancedDiet  Obesity  ...  Fatigue  \\\n",
              "0              3                   2             2        4  ...        3   \n",
              "1              4                   2             2        2  ...        1   \n",
              "2              5                   4             6        7  ...        8   \n",
              "3              6                   7             7        7  ...        4   \n",
              "4              7                   6             7        7  ...        3   \n",
              "..           ...                 ...           ...      ...  ...      ...   \n",
              "995            7                   6             7        7  ...        5   \n",
              "996            7                   6             7        7  ...        9   \n",
              "997            5                   4             6        7  ...        8   \n",
              "998            7                   6             7        7  ...        3   \n",
              "999            5                   4             6        7  ...        8   \n",
              "\n",
              "     WeightLoss  ShortnessofBreath  Wheezing  SwallowingDifficulty  \\\n",
              "0             4                  2         2                     3   \n",
              "1             3                  7         8                     6   \n",
              "2             7                  9         2                     1   \n",
              "3             2                  3         1                     4   \n",
              "4             2                  4         1                     4   \n",
              "..          ...                ...       ...                   ...   \n",
              "995           3                  2         7                     8   \n",
              "996           6                  5         7                     2   \n",
              "997           7                  9         2                     1   \n",
              "998           2                  4         1                     4   \n",
              "999           7                  9         2                     1   \n",
              "\n",
              "     ClubbingofFingerNails  FrequentCold  DryCough  Snoring  Level  \n",
              "0                        1             2         3        4    Low  \n",
              "1                        2             1         7        2   High  \n",
              "2                        4             6         7        2   High  \n",
              "3                        5             6         7        5   High  \n",
              "4                        2             4         2        3   High  \n",
              "..                     ...           ...       ...      ...    ...  \n",
              "995                      2             4         5        3   High  \n",
              "996                      4             3         1        4   High  \n",
              "997                      4             6         7        2   High  \n",
              "998                      2             4         2        3   High  \n",
              "999                      4             6         7        2   High  \n",
              "\n",
              "[1000 rows x 24 columns]>"
            ]
          },
          "metadata": {},
          "execution_count": 19
        }
      ]
    },
    {
      "cell_type": "code",
      "source": [
        "data.isnull().sum()"
      ],
      "metadata": {
        "colab": {
          "base_uri": "https://localhost:8080/"
        },
        "id": "28gGJ9JS4N_a",
        "outputId": "429e317f-0fa0-44e5-f785-39abc2f85b7c"
      },
      "execution_count": 20,
      "outputs": [
        {
          "output_type": "execute_result",
          "data": {
            "text/plain": [
              "Age                      0\n",
              "Gender                   0\n",
              "AirPollution             0\n",
              "Alcoholuse               0\n",
              "DustAllergy              0\n",
              "OccuPationalHazards      0\n",
              "GeneticRisk              0\n",
              "chronicLungDisease       0\n",
              "BalancedDiet             0\n",
              "Obesity                  0\n",
              "Smoking                  0\n",
              "PassiveSmoker            0\n",
              "ChestPain                0\n",
              "CoughingofBlood          0\n",
              "Fatigue                  0\n",
              "WeightLoss               0\n",
              "ShortnessofBreath        0\n",
              "Wheezing                 0\n",
              "SwallowingDifficulty     0\n",
              "ClubbingofFingerNails    0\n",
              "FrequentCold             0\n",
              "DryCough                 0\n",
              "Snoring                  0\n",
              "Level                    0\n",
              "dtype: int64"
            ]
          },
          "metadata": {},
          "execution_count": 20
        }
      ]
    },
    {
      "cell_type": "code",
      "source": [
        "data['Level'].replace('Medium','High',inplace=True)\n",
        "data['Level'].replace('High','1',inplace=True)\n",
        "data['Level'].replace('Low','0',inplace=True)\n",
        "data['Level'] = pd.to_numeric(data['Level'])"
      ],
      "metadata": {
        "id": "ccdH6b0Q4RmU"
      },
      "execution_count": 21,
      "outputs": []
    },
    {
      "cell_type": "code",
      "source": [
        "X = data.drop('Level',axis = 1)\n",
        "y = data['Level']\n",
        "X_train, X_test, y_train, y_test = train_test_split(X,y,test_size=.25)"
      ],
      "metadata": {
        "id": "dIQ5knWv4bIN"
      },
      "execution_count": 22,
      "outputs": []
    },
    {
      "cell_type": "code",
      "source": [
        "Log_reg = LogisticRegression(fit_intercept=True,C=1e15,solver='newton-cg',max_iter=300,penalty='l2',multi_class='ovr')\n",
        "Log_reg.fit(X_train,y_train)\n",
        "Log_pred = Log_reg.predict(X_test)"
      ],
      "metadata": {
        "id": "kYC52zIA4dUV"
      },
      "execution_count": 23,
      "outputs": []
    },
    {
      "cell_type": "code",
      "source": [
        "lor_accuracy = accuracy_score(y_test,Log_pred)\n",
        "logreg = LogisticRegression(max_iter=1500)\n",
        "scores_Log = cross_val_score(logreg , X_train , y_train , cv=20)\n",
        "scores_Log = scores_Log.mean()\n",
        "print(scores_Log)"
      ],
      "metadata": {
        "colab": {
          "base_uri": "https://localhost:8080/"
        },
        "id": "NsepbP_s4gda",
        "outputId": "b93ce32e-51c2-4198-8d7d-14a08f9455fe"
      },
      "execution_count": 24,
      "outputs": [
        {
          "output_type": "stream",
          "name": "stdout",
          "text": [
            "1.0\n"
          ]
        }
      ]
    }
  ]
}